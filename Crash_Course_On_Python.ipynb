{
  "nbformat": 4,
  "nbformat_minor": 0,
  "metadata": {
    "colab": {
      "provenance": [],
      "authorship_tag": "ABX9TyOLqcHH8N5MsLPRAHBI/AzD",
      "include_colab_link": true
    },
    "kernelspec": {
      "name": "python3",
      "display_name": "Python 3"
    },
    "language_info": {
      "name": "python"
    }
  },
  "cells": [
    {
      "cell_type": "markdown",
      "metadata": {
        "id": "view-in-github",
        "colab_type": "text"
      },
      "source": [
        "<a href=\"https://colab.research.google.com/github/Injamtanvir/Coursera_Courses_Codes/blob/main/Crash_Course_On_Python.ipynb\" target=\"_parent\"><img src=\"https://colab.research.google.com/assets/colab-badge.svg\" alt=\"Open In Colab\"/></a>"
      ]
    },
    {
      "cell_type": "markdown",
      "source": [
        "#Crash Course on Python"
      ],
      "metadata": {
        "id": "A-GcrjWEc0Hz"
      }
    },
    {
      "cell_type": "markdown",
      "source": [
        "#Module 1"
      ],
      "metadata": {
        "id": "elhITkeAoBGa"
      }
    },
    {
      "cell_type": "code",
      "source": [
        "friends = ['Taylor', 'Alex', 'Pat', 'Eli']\n",
        "for friend in friends:\n",
        "    print(\"Hi \" + friend)"
      ],
      "metadata": {
        "colab": {
          "base_uri": "https://localhost:8080/"
        },
        "id": "pHyisUMQc0Ve",
        "outputId": "96f0e327-adec-4aa3-fbc3-a84fe372548c"
      },
      "execution_count": null,
      "outputs": [
        {
          "output_type": "stream",
          "name": "stdout",
          "text": [
            "Hi Taylor\n",
            "Hi Alex\n",
            "Hi Pat\n",
            "Hi Eli\n"
          ]
        }
      ]
    },
    {
      "cell_type": "code",
      "source": [
        "for i in range(10):\n",
        "  print(\"Hello, World!\")"
      ],
      "metadata": {
        "colab": {
          "base_uri": "https://localhost:8080/"
        },
        "id": "SPhqn6gCc_iJ",
        "outputId": "9b02bbb5-3cfd-47d9-d282-3cd4682cfda2"
      },
      "execution_count": null,
      "outputs": [
        {
          "output_type": "stream",
          "name": "stdout",
          "text": [
            "Hello, World!\n",
            "Hello, World!\n",
            "Hello, World!\n",
            "Hello, World!\n",
            "Hello, World!\n",
            "Hello, World!\n",
            "Hello, World!\n",
            "Hello, World!\n",
            "Hello, World!\n",
            "Hello, World!\n"
          ]
        }
      ]
    },
    {
      "cell_type": "code",
      "source": [
        "print(\"I'm programming in Python!\")"
      ],
      "metadata": {
        "colab": {
          "base_uri": "https://localhost:8080/"
        },
        "id": "NKrxiqbYiSJg",
        "outputId": "921d9072-467c-4f27-c3ae-da60f3b0e020"
      },
      "execution_count": null,
      "outputs": [
        {
          "output_type": "stream",
          "name": "stdout",
          "text": [
            "I'm programming in Python!\n"
          ]
        }
      ]
    },
    {
      "cell_type": "code",
      "source": [
        "name = \"Alex\"\n",
        "print(\"Hello \" + name)"
      ],
      "metadata": {
        "colab": {
          "base_uri": "https://localhost:8080/"
        },
        "id": "PPBpi2LUmxKM",
        "outputId": "43a9680e-9814-42d6-c480-2bd575a09203"
      },
      "execution_count": null,
      "outputs": [
        {
          "output_type": "stream",
          "name": "stdout",
          "text": [
            "Hello Alex\n"
          ]
        }
      ]
    },
    {
      "cell_type": "code",
      "source": [
        "name = \"Robert\"\n",
        "print(\"Hello \" + name)"
      ],
      "metadata": {
        "colab": {
          "base_uri": "https://localhost:8080/"
        },
        "id": "zNQbSXNAnxzK",
        "outputId": "83e5ffb4-1e09-42e2-f6d9-064f24aebd32"
      },
      "execution_count": null,
      "outputs": [
        {
          "output_type": "stream",
          "name": "stdout",
          "text": [
            "Hello Robert\n"
          ]
        }
      ]
    },
    {
      "cell_type": "code",
      "source": [
        "print(4+5)"
      ],
      "metadata": {
        "colab": {
          "base_uri": "https://localhost:8080/"
        },
        "id": "sAePH8cJpLY7",
        "outputId": "122620e4-135c-4bbb-a66c-c9edbf298d32"
      },
      "execution_count": null,
      "outputs": [
        {
          "output_type": "stream",
          "name": "stdout",
          "text": [
            "9\n"
          ]
        }
      ]
    },
    {
      "cell_type": "code",
      "source": [
        "print(9*7)"
      ],
      "metadata": {
        "colab": {
          "base_uri": "https://localhost:8080/"
        },
        "id": "CgX37YMcpLbz",
        "outputId": "09f5fe71-8441-4798-ddd4-8a3c6f913770"
      },
      "execution_count": null,
      "outputs": [
        {
          "output_type": "stream",
          "name": "stdout",
          "text": [
            "63\n"
          ]
        }
      ]
    },
    {
      "cell_type": "code",
      "source": [
        "print(-1/4)"
      ],
      "metadata": {
        "colab": {
          "base_uri": "https://localhost:8080/"
        },
        "id": "ffRwg0NqpLeq",
        "outputId": "f8d070d8-fa01-433e-8add-20baafa97a6b"
      },
      "execution_count": null,
      "outputs": [
        {
          "output_type": "stream",
          "name": "stdout",
          "text": [
            "-0.25\n"
          ]
        }
      ]
    },
    {
      "cell_type": "code",
      "source": [
        "print(1/3)"
      ],
      "metadata": {
        "colab": {
          "base_uri": "https://localhost:8080/"
        },
        "id": "3cdRynqNpLo8",
        "outputId": "3ecf8ca6-6004-4e3a-e784-b5d94019c5c5"
      },
      "execution_count": null,
      "outputs": [
        {
          "output_type": "stream",
          "name": "stdout",
          "text": [
            "0.3333333333333333\n"
          ]
        }
      ]
    },
    {
      "cell_type": "code",
      "source": [
        "#For Commenting we used # operator as comment"
      ],
      "metadata": {
        "id": "7FaujrCNpue4"
      },
      "execution_count": null,
      "outputs": []
    },
    {
      "cell_type": "code",
      "source": [
        "print(((2050/5)-32)/9)"
      ],
      "metadata": {
        "colab": {
          "base_uri": "https://localhost:8080/"
        },
        "id": "fSp6Aq1YpYE6",
        "outputId": "7e284f75-ec42-47d1-aeba-c35282423904"
      },
      "execution_count": null,
      "outputs": [
        {
          "output_type": "stream",
          "name": "stdout",
          "text": [
            "42.0\n"
          ]
        }
      ]
    },
    {
      "cell_type": "code",
      "source": [
        "print(2**10)  #In python, for power we used ** operator"
      ],
      "metadata": {
        "colab": {
          "base_uri": "https://localhost:8080/"
        },
        "id": "8DZV-fhEpYJJ",
        "outputId": "03d03820-580a-4c29-87c3-5ecc74c47a01"
      },
      "execution_count": null,
      "outputs": [
        {
          "output_type": "stream",
          "name": "stdout",
          "text": [
            "1024\n"
          ]
        }
      ]
    },
    {
      "cell_type": "code",
      "source": [
        "print(((1+2)*3)/4)"
      ],
      "metadata": {
        "colab": {
          "base_uri": "https://localhost:8080/"
        },
        "id": "3MohI_v0nx2-",
        "outputId": "203025e5-e1c7-4ff2-bec2-f8142190a0d3"
      },
      "execution_count": null,
      "outputs": [
        {
          "output_type": "stream",
          "name": "stdout",
          "text": [
            "2.25\n"
          ]
        }
      ]
    },
    {
      "cell_type": "code",
      "source": [
        "print(\"Programming in Python is fun!\")"
      ],
      "metadata": {
        "colab": {
          "base_uri": "https://localhost:8080/"
        },
        "id": "5UAMtCNMs7io",
        "outputId": "be90bf62-a024-4f94-e8c8-5fdca030ac32"
      },
      "execution_count": null,
      "outputs": [
        {
          "output_type": "stream",
          "name": "stdout",
          "text": [
            "Programming in Python is fun!\n"
          ]
        }
      ]
    },
    {
      "cell_type": "code",
      "source": [
        "ratio = ((1+5**(1/2))/2)\n",
        "print(ratio)"
      ],
      "metadata": {
        "colab": {
          "base_uri": "https://localhost:8080/"
        },
        "id": "TkiSTGMUs7sU",
        "outputId": "0632a7a3-4510-4180-f958-ccd4e2d3cb34"
      },
      "execution_count": null,
      "outputs": [
        {
          "output_type": "stream",
          "name": "stdout",
          "text": [
            "1.618033988749895\n"
          ]
        }
      ]
    },
    {
      "cell_type": "code",
      "source": [
        "# Syntax for printing a string of text\n",
        "print(\"I love Python!\")\n",
        "\n",
        "\n",
        "# Syntax for printing numeric values\n",
        "print(360)\n",
        "print(32*45)\n",
        "\n",
        "\n",
        "# Syntax for printing the value of a variable\n",
        "value = 8*6\n",
        "print(value)\n"
      ],
      "metadata": {
        "colab": {
          "base_uri": "https://localhost:8080/"
        },
        "id": "KNAsrg5mvZ5k",
        "outputId": "c15d5cbc-b7db-48a4-ab3c-4bb1a74fe98d"
      },
      "execution_count": null,
      "outputs": [
        {
          "output_type": "stream",
          "name": "stdout",
          "text": [
            "I love Python!\n",
            "360\n",
            "1440\n",
            "48\n"
          ]
        }
      ]
    },
    {
      "cell_type": "code",
      "source": [
        "# Multiplication, division, addition, and subtraction\n",
        "print(3*8/2+5-1)\n",
        "\n",
        "# Exponents\n",
        "print(4**6) # Syntax means 4 to the power of 6\n",
        "print(4**2) # To square a number\n",
        "print(4**3) # To cube a number\n",
        "print(4**0.5) # To find the square root of a number\n",
        "\n",
        "# To calculate how many different possible combinations can be\n",
        "# formed using a set of \"x\" characters with each character in \"x\"\n",
        "# having \"y\" number of possible values, you will need to use an\n",
        "# exponent for the calculation:\n",
        "x = 4\n",
        "y = 26\n",
        "print(y**x)\n"
      ],
      "metadata": {
        "colab": {
          "base_uri": "https://localhost:8080/"
        },
        "id": "du1stzs7vZ8y",
        "outputId": "06f8e668-a9ae-4b5c-ae3a-7b7dd23c2b43"
      },
      "execution_count": null,
      "outputs": [
        {
          "output_type": "stream",
          "name": "stdout",
          "text": [
            "16.0\n",
            "4096\n",
            "16\n",
            "64\n",
            "2.0\n",
            "456976\n"
          ]
        }
      ]
    },
    {
      "cell_type": "code",
      "source": [
        "# Assignment of values to the variables:\n",
        "years = 10\n",
        "weeks_in_a_year = 52\n",
        "# This variable is assigned an arithmetic calculation:\n",
        "weeks_in_a_decade = years * weeks_in_a_year\n",
        "# Prints the calculation stored in the \"weeks_in_a_decade\" variable:\n",
        "print(weeks_in_a_decade)"
      ],
      "metadata": {
        "colab": {
          "base_uri": "https://localhost:8080/"
        },
        "id": "7xlJ5ocIviMu",
        "outputId": "d40dbf5d-c361-4e07-ab1e-5d05e8494865"
      },
      "execution_count": null,
      "outputs": [
        {
          "output_type": "stream",
          "name": "stdout",
          "text": [
            "520\n"
          ]
        }
      ]
    },
    {
      "cell_type": "code",
      "source": [
        "print(\"Automating with Python is fun!\")"
      ],
      "metadata": {
        "colab": {
          "base_uri": "https://localhost:8080/"
        },
        "id": "2pFUfaJSx1Nw",
        "outputId": "73ea764f-dcb2-4856-ec13-cc94a94633dd"
      },
      "execution_count": null,
      "outputs": [
        {
          "output_type": "stream",
          "name": "stdout",
          "text": [
            "Automating with Python is fun!\n"
          ]
        }
      ]
    },
    {
      "cell_type": "code",
      "source": [
        "print(2+2/((2+2)+(2**2)))"
      ],
      "metadata": {
        "colab": {
          "base_uri": "https://localhost:8080/"
        },
        "id": "-fL-dFxJx3FR",
        "outputId": "ebd977aa-5cb4-4d64-c599-b9a25619b304"
      },
      "execution_count": null,
      "outputs": [
        {
          "output_type": "stream",
          "name": "stdout",
          "text": [
            "2.25\n"
          ]
        }
      ]
    },
    {
      "cell_type": "code",
      "source": [
        "print(12/(1+2)+2**2)"
      ],
      "metadata": {
        "colab": {
          "base_uri": "https://localhost:8080/"
        },
        "id": "SkB8X74N1lLk",
        "outputId": "57697413-b76a-49c3-ff5c-02dcb225d26e"
      },
      "execution_count": null,
      "outputs": [
        {
          "output_type": "stream",
          "name": "stdout",
          "text": [
            "8.0\n"
          ]
        }
      ]
    },
    {
      "cell_type": "code",
      "source": [
        "'''Assuming there are 60 minutes in an hour, write a program that calculates the number of minutes in a 24 hour day. Print the result on the screen. Note: Your result should be in the format of just a number, not a sentence.'''\n",
        "# Enter code here:\n",
        "print(24 * 60)\n",
        "\n",
        "# Should print 1440"
      ],
      "metadata": {
        "colab": {
          "base_uri": "https://localhost:8080/"
        },
        "id": "ULmksDAx11Wn",
        "outputId": "69c9c18c-d70f-4554-c605-328a6f8dc172"
      },
      "execution_count": null,
      "outputs": [
        {
          "output_type": "stream",
          "name": "stdout",
          "text": [
            "1440\n"
          ]
        }
      ]
    },
    {
      "cell_type": "code",
      "source": [
        "'''\n",
        "Keeping in mind there are 60 seconds per minute , write a program that calculates how many seconds there are in an hour .Print the result to the screen. Note: Your result should be in the format of just a number, not a sentence.\n",
        "'''\n",
        "# Enter code here:\n",
        "\n",
        "print(60*60)\n",
        "\n",
        "# Should print 3600"
      ],
      "metadata": {
        "colab": {
          "base_uri": "https://localhost:8080/"
        },
        "id": "t4d-6wxix3Ip",
        "outputId": "b5825dde-abd5-4a8b-eaf0-024269dfe532"
      },
      "execution_count": null,
      "outputs": [
        {
          "output_type": "stream",
          "name": "stdout",
          "text": [
            "3600\n"
          ]
        }
      ]
    },
    {
      "cell_type": "code",
      "source": [
        "'''Use Python to calculate how many different passwords can be formed with 6 lower case English letters (excludes any character not found in the English alphabet).  For a 1 letter password, there would be 26 possibilities; one for every letter of the English alphabet.  For a 2 letter password, each letter is independent of the other, so there would be 26 times 26 possibilities. Using this information, print the amount of possible passwords that can be formed with 3 letters.'''\n",
        "\n",
        "# Enter code here:\n",
        "print(26**3)\n",
        "# Should print 17576\n"
      ],
      "metadata": {
        "colab": {
          "base_uri": "https://localhost:8080/"
        },
        "id": "EmhbS396x3L0",
        "outputId": "019048b9-f6bb-40bb-d4c5-ffbf88e89641"
      },
      "execution_count": null,
      "outputs": [
        {
          "output_type": "stream",
          "name": "stdout",
          "text": [
            "17576\n"
          ]
        }
      ]
    },
    {
      "cell_type": "code",
      "source": [
        "'''Use the Python print function to calculate how many number-based passcodes can be formed with 10 numerals (0 through 9).  Here’s a hint to help you: When each digit of a passcode is independent of the others, the total number of combinations is simply the number of possibilities for each digit raised to the power of the length of the passcode. So, for a 1-numeral passcode, there would be 10 possibilities; one for every numeral from 0 to 9.  For a 2-numeral passcode, each numeral is independent of the other, so there would be 10 times 10 possibilities. Using this information, print the amount of possible passwords that can be formed with 3 numerals. Note:Your result should be in the number format, not a sentence.'''\n",
        "# Should print 1000\n",
        "print(10**3)"
      ],
      "metadata": {
        "colab": {
          "base_uri": "https://localhost:8080/"
        },
        "id": "atv3E0xJ4Axb",
        "outputId": "4bf1a7dd-5cbe-4f23-e2f7-2986d191110b"
      },
      "execution_count": null,
      "outputs": [
        {
          "output_type": "stream",
          "name": "stdout",
          "text": [
            "1000\n"
          ]
        }
      ]
    },
    {
      "cell_type": "code",
      "source": [
        "'''Consider this scenario about using Python to make calculations:\n",
        "\n",
        "In a managed computing environment, there are 200 remote computers that must download 200 MB (megabytes) of updates each month. There are 1024 KB (kilobytes) in each MB.\n",
        "\n",
        "Fill in the blank in the code below to compute the number of total kilobytes downloaded by all computers from the remote update server each month. Multiply the total number of computers by the download size in KB to calculate. '''\n",
        "\n",
        "download_size_kb = 200*1024\n",
        "total_computers = 200\n",
        "total_kbs = total_computers * download_size_kb\n",
        "\n",
        "print(total_kbs) # Should print 40960000.0"
      ],
      "metadata": {
        "colab": {
          "base_uri": "https://localhost:8080/"
        },
        "id": "TyslLZLS0SHW",
        "outputId": "d91da376-4313-4af3-cc19-a18d8967d72a"
      },
      "execution_count": null,
      "outputs": [
        {
          "output_type": "stream",
          "name": "stdout",
          "text": [
            "40960000\n"
          ]
        }
      ]
    },
    {
      "cell_type": "markdown",
      "source": [
        "#Module 2"
      ],
      "metadata": {
        "id": "otcNpfpawCpJ"
      }
    },
    {
      "cell_type": "code",
      "source": [
        "#Data Types"
      ],
      "metadata": {
        "id": "gnkm9nVfx2fZ"
      },
      "execution_count": 8,
      "outputs": []
    },
    {
      "cell_type": "code",
      "source": [
        "print(7+8)"
      ],
      "metadata": {
        "id": "uegsoZEewQMi",
        "colab": {
          "base_uri": "https://localhost:8080/"
        },
        "outputId": "ac4ed8b1-5cc9-4146-8d37-4c80990bb1ff"
      },
      "execution_count": 1,
      "outputs": [
        {
          "output_type": "stream",
          "name": "stdout",
          "text": [
            "15\n"
          ]
        }
      ]
    },
    {
      "cell_type": "code",
      "source": [
        "print(\"Hello \"+ \"World\")"
      ],
      "metadata": {
        "colab": {
          "base_uri": "https://localhost:8080/"
        },
        "id": "n5-av5Ay7C1N",
        "outputId": "b28078b2-8e8a-4652-f4c4-594eae687e8d"
      },
      "execution_count": 2,
      "outputs": [
        {
          "output_type": "stream",
          "name": "stdout",
          "text": [
            "Hello World\n"
          ]
        }
      ]
    },
    {
      "cell_type": "code",
      "source": [
        "print(7 + \"8\") #will get an error"
      ],
      "metadata": {
        "colab": {
          "base_uri": "https://localhost:8080/",
          "height": 175
        },
        "id": "n-Dg-0TQ7HgO",
        "outputId": "cf5c5e08-1da5-4060-b253-3b110308b1f7"
      },
      "execution_count": 4,
      "outputs": [
        {
          "output_type": "error",
          "ename": "TypeError",
          "evalue": "ignored",
          "traceback": [
            "\u001b[0;31m---------------------------------------------------------------------------\u001b[0m",
            "\u001b[0;31mTypeError\u001b[0m                                 Traceback (most recent call last)",
            "\u001b[0;32m<ipython-input-4-597c27871439>\u001b[0m in \u001b[0;36m<cell line: 1>\u001b[0;34m()\u001b[0m\n\u001b[0;32m----> 1\u001b[0;31m \u001b[0mprint\u001b[0m\u001b[0;34m(\u001b[0m\u001b[0;36m7\u001b[0m \u001b[0;34m+\u001b[0m \u001b[0;34m\"8\"\u001b[0m\u001b[0;34m)\u001b[0m \u001b[0;31m#will get an error\u001b[0m\u001b[0;34m\u001b[0m\u001b[0;34m\u001b[0m\u001b[0m\n\u001b[0m",
            "\u001b[0;31mTypeError\u001b[0m: unsupported operand type(s) for +: 'int' and 'str'"
          ]
        }
      ]
    },
    {
      "cell_type": "code",
      "source": [
        "print(type(\"a\"))"
      ],
      "metadata": {
        "colab": {
          "base_uri": "https://localhost:8080/"
        },
        "id": "Vze25PmT7P4J",
        "outputId": "beaa4890-31b4-453f-b796-0a28ecc2b28b"
      },
      "execution_count": 5,
      "outputs": [
        {
          "output_type": "stream",
          "name": "stdout",
          "text": [
            "<class 'str'>\n"
          ]
        }
      ]
    },
    {
      "cell_type": "code",
      "source": [
        "print(type(2))"
      ],
      "metadata": {
        "colab": {
          "base_uri": "https://localhost:8080/"
        },
        "id": "aQjZwP7K8DNd",
        "outputId": "d88a65e0-a3e9-4d2e-8c1d-d0c68c1023d0"
      },
      "execution_count": 6,
      "outputs": [
        {
          "output_type": "stream",
          "name": "stdout",
          "text": [
            "<class 'int'>\n"
          ]
        }
      ]
    },
    {
      "cell_type": "code",
      "source": [
        "print(type(2.5))"
      ],
      "metadata": {
        "colab": {
          "base_uri": "https://localhost:8080/"
        },
        "id": "7s5zcC7O8Gdg",
        "outputId": "01eb2ef2-afe4-440a-f485-1accb026fdc5"
      },
      "execution_count": 7,
      "outputs": [
        {
          "output_type": "stream",
          "name": "stdout",
          "text": [
            "<class 'float'>\n"
          ]
        }
      ]
    },
    {
      "cell_type": "code",
      "source": [
        "length = 10\n",
        "width = 2\n",
        "area = length * width\n",
        "print(area)"
      ],
      "metadata": {
        "colab": {
          "base_uri": "https://localhost:8080/"
        },
        "id": "5j79biPu8IxS",
        "outputId": "62060a5c-9286-4466-b84d-abc44a813f2e"
      },
      "execution_count": 10,
      "outputs": [
        {
          "output_type": "stream",
          "name": "stdout",
          "text": [
            "20\n"
          ]
        }
      ]
    },
    {
      "cell_type": "code",
      "source": [
        "base = 5\n",
        "height = 3\n",
        "area = (base*height) / 2  #The area of a Triangle\n",
        "print(area)"
      ],
      "metadata": {
        "colab": {
          "base_uri": "https://localhost:8080/"
        },
        "id": "OvNDNN0X9haE",
        "outputId": "9c6d11a9-f22b-40c6-ec8f-168ede1cfffd"
      },
      "execution_count": 12,
      "outputs": [
        {
          "output_type": "stream",
          "name": "stdout",
          "text": [
            "7.5\n"
          ]
        }
      ]
    },
    {
      "cell_type": "code",
      "source": [
        "#Implicit conversion\n",
        "print(7 + 8.5) # convert integer 7 into float , we called it Implicit Conversion: The interpreter automatically converts one data type into another"
      ],
      "metadata": {
        "colab": {
          "base_uri": "https://localhost:8080/"
        },
        "id": "ww5c_Eir_e8W",
        "outputId": "af900903-80a1-4775-9312-68b18b067ad7"
      },
      "execution_count": 14,
      "outputs": [
        {
          "output_type": "stream",
          "name": "stdout",
          "text": [
            "15.5\n"
          ]
        }
      ]
    },
    {
      "cell_type": "code",
      "source": [
        "print(\"a\"+\"b\"+\"c\")"
      ],
      "metadata": {
        "colab": {
          "base_uri": "https://localhost:8080/"
        },
        "id": "dQQxXd2iBDtF",
        "outputId": "468a0e6a-95e9-4ea9-bafd-388cc2795529"
      },
      "execution_count": 15,
      "outputs": [
        {
          "output_type": "stream",
          "name": "stdout",
          "text": [
            "abc\n"
          ]
        }
      ]
    },
    {
      "cell_type": "code",
      "source": [
        "print(\"This \"+ \"is \"+\"Pretty \"+\"neat!\")"
      ],
      "metadata": {
        "colab": {
          "base_uri": "https://localhost:8080/"
        },
        "id": "x-pGl3NKBlDx",
        "outputId": "415e4164-509e-4738-b6ff-cfcfe8344738"
      },
      "execution_count": 16,
      "outputs": [
        {
          "output_type": "stream",
          "name": "stdout",
          "text": [
            "This is Pretty neat!\n"
          ]
        }
      ]
    },
    {
      "cell_type": "code",
      "source": [
        "base = 5\n",
        "height = 3\n",
        "area = (base*height) / 2  #The area of a Triangle\n",
        "print(\"The area of the triangle is: \"+ str(area)) #Explicit conversion"
      ],
      "metadata": {
        "colab": {
          "base_uri": "https://localhost:8080/"
        },
        "id": "Hqul1R_TBuK-",
        "outputId": "86eeadaa-9fee-4761-c368-04a5855da1c7"
      },
      "execution_count": 17,
      "outputs": [
        {
          "output_type": "stream",
          "name": "stdout",
          "text": [
            "The area of the triangle is: 7.5\n"
          ]
        }
      ]
    },
    {
      "cell_type": "code",
      "source": [
        "total = 2048 + 4357 + 97658 + 125 + 8\n",
        "files = 5\n",
        "average = total / files\n",
        "print(\"The average size is: \"+ str(average))"
      ],
      "metadata": {
        "colab": {
          "base_uri": "https://localhost:8080/"
        },
        "id": "Wp-lfFJaCH0L",
        "outputId": "81d00a4e-17ac-4876-f747-814d1db299c4"
      },
      "execution_count": 18,
      "outputs": [
        {
          "output_type": "stream",
          "name": "stdout",
          "text": [
            "The average size is: 20839.2\n"
          ]
        }
      ]
    },
    {
      "cell_type": "code",
      "source": [
        "# The following lines assign the variable to the left of the =\n",
        "# assignment operator with the values and arithmetic expressions\n",
        "# on the right side of the = assignment operator.\n",
        "hotel_room = 100\n",
        "tax = hotel_room * 0.08\n",
        "total = hotel_room + tax\n",
        "room_guests = 4\n",
        "share_per_person = total/room_guests\n",
        "\n",
        "# This line outputs the result of the final calculation stored\n",
        "# in the variable \"share_per_person\"\n",
        "print(\"Each person needs to pay: \" + str(share_per_person)) # change a data type"
      ],
      "metadata": {
        "colab": {
          "base_uri": "https://localhost:8080/"
        },
        "id": "0eJgXAWaCH3i",
        "outputId": "53a11946-59ef-43b0-9313-0c2a46092bb6"
      },
      "execution_count": 19,
      "outputs": [
        {
          "output_type": "stream",
          "name": "stdout",
          "text": [
            "Each person needs to pay: 27.0\n"
          ]
        }
      ]
    },
    {
      "cell_type": "code",
      "source": [
        "# The following 5 lines assign strings to a list of variables.\n",
        "salutation = \"Dr.\"\n",
        "first_name = \"Prisha\"\n",
        "middle_name = \"Jai\"\n",
        "last_name = \"Agarwal\"\n",
        "suffix = \"Ph.D.\"\n",
        "\n",
        "print(salutation + \" \" + first_name + \" \" + middle_name + \" \" + last_name + \", \" + suffix)\n",
        "# The comma as a string \", \" adds the conventional use of a comma plus a\n",
        "# space to separate the last name from the suffix.\n",
        "\n",
        "# Alternatively, you could use commas in place of the + connector:\n",
        "print(salutation, first_name, middle_name, last_name,\",\", suffix)\n",
        "# However, you will find that this produces a space before a comma within a string."
      ],
      "metadata": {
        "colab": {
          "base_uri": "https://localhost:8080/"
        },
        "id": "SV5VMhUVCH6P",
        "outputId": "84d27069-b012-40b3-b306-893254e46084"
      },
      "execution_count": 20,
      "outputs": [
        {
          "output_type": "stream",
          "name": "stdout",
          "text": [
            "Dr. Prisha Jai Agarwal, Ph.D.\n",
            "Dr. Prisha Jai Agarwal , Ph.D.\n"
          ]
        }
      ]
    },
    {
      "cell_type": "code",
      "source": [
        "#print(\"5 * 3 = \" + (5*3))\n",
        "\n",
        "# Resolution:\n",
        "print(\"5 * 3 = \" + str(5*3))\n",
        "#\n",
        "# To avoid a type error between the string and the integer within the\n",
        "# print() function, you can make an explicit data type conversion by\n",
        "# using the str() function to convert the integer to a string."
      ],
      "metadata": {
        "colab": {
          "base_uri": "https://localhost:8080/"
        },
        "id": "tKtlyoMpCH9E",
        "outputId": "1be4da78-4876-4bd9-920e-d3e0e56f0e17"
      },
      "execution_count": 21,
      "outputs": [
        {
          "output_type": "stream",
          "name": "stdout",
          "text": [
            "5 * 3 = 15\n"
          ]
        }
      ]
    },
    {
      "cell_type": "code",
      "source": [
        "numerator = 7\n",
        "denominator = 0   # Possible resolution: Change the denominator value\n",
        "result = numerator / denominator\n",
        "print(result)\n",
        "\n",
        "# One possible assumption for a number divided by zero error might\n",
        "# include the issue of a null value as a denominator (could happen when\n",
        "# using a loop to iterate over values in a database). In such cases, the\n",
        "# desired outcome may be to leave the numerator value intact. The\n",
        "# numerator value can be preserved by reassigning the denominator with\n",
        "# the integer value of 1. The result would then equal the numerator."
      ],
      "metadata": {
        "colab": {
          "base_uri": "https://localhost:8080/",
          "height": 245
        },
        "id": "9V-bkeleCH_1",
        "outputId": "21d666ee-7362-4d2e-b143-6013e9ce9af3"
      },
      "execution_count": 22,
      "outputs": [
        {
          "output_type": "error",
          "ename": "ZeroDivisionError",
          "evalue": "ignored",
          "traceback": [
            "\u001b[0;31m---------------------------------------------------------------------------\u001b[0m",
            "\u001b[0;31mZeroDivisionError\u001b[0m                         Traceback (most recent call last)",
            "\u001b[0;32m<ipython-input-22-efa7f3840acb>\u001b[0m in \u001b[0;36m<cell line: 3>\u001b[0;34m()\u001b[0m\n\u001b[1;32m      1\u001b[0m \u001b[0mnumerator\u001b[0m \u001b[0;34m=\u001b[0m \u001b[0;36m7\u001b[0m\u001b[0;34m\u001b[0m\u001b[0;34m\u001b[0m\u001b[0m\n\u001b[1;32m      2\u001b[0m \u001b[0mdenominator\u001b[0m \u001b[0;34m=\u001b[0m \u001b[0;36m0\u001b[0m   \u001b[0;31m# Possible resolution: Change the denominator value\u001b[0m\u001b[0;34m\u001b[0m\u001b[0;34m\u001b[0m\u001b[0m\n\u001b[0;32m----> 3\u001b[0;31m \u001b[0mresult\u001b[0m \u001b[0;34m=\u001b[0m \u001b[0mnumerator\u001b[0m \u001b[0;34m/\u001b[0m \u001b[0mdenominator\u001b[0m\u001b[0;34m\u001b[0m\u001b[0;34m\u001b[0m\u001b[0m\n\u001b[0m\u001b[1;32m      4\u001b[0m \u001b[0mprint\u001b[0m\u001b[0;34m(\u001b[0m\u001b[0mresult\u001b[0m\u001b[0;34m)\u001b[0m\u001b[0;34m\u001b[0m\u001b[0;34m\u001b[0m\u001b[0m\n\u001b[1;32m      5\u001b[0m \u001b[0;34m\u001b[0m\u001b[0m\n",
            "\u001b[0;31mZeroDivisionError\u001b[0m: division by zero"
          ]
        }
      ]
    },
    {
      "cell_type": "code",
      "source": [
        "print(\"2 + 2 = \" + str(2 + 2))"
      ],
      "metadata": {
        "colab": {
          "base_uri": "https://localhost:8080/"
        },
        "id": "prduFaMjCIC3",
        "outputId": "ffcb9c1c-d76a-4cd4-fc10-fd39045c0634"
      },
      "execution_count": 23,
      "outputs": [
        {
          "output_type": "stream",
          "name": "stdout",
          "text": [
            "2 + 2 = 4\n"
          ]
        }
      ]
    },
    {
      "cell_type": "code",
      "source": [
        "bill = 47.28 # Assign \"bill\" variable with bill amount\n",
        "tip = bill * (15/100) # Multiply by stated tip rate\n",
        "total = bill + tip # Sum the \"total\" of the \"bill\" and \"tip\"\n",
        "share = total / 2 # Divide \"total\" by number of friends dining\n",
        "print(\"Each person needs to pay: \" + str(share)) # Enter the required string and \"share\"\n",
        "# Hint: Remember to convert incompatible data types"
      ],
      "metadata": {
        "colab": {
          "base_uri": "https://localhost:8080/"
        },
        "id": "nQq9Jx5vFxoN",
        "outputId": "d5c24f1d-dd50-4675-c75a-e4e745fb6540"
      },
      "execution_count": 25,
      "outputs": [
        {
          "output_type": "stream",
          "name": "stdout",
          "text": [
            "Each person needs to pay: 27.186\n"
          ]
        }
      ]
    },
    {
      "cell_type": "code",
      "source": [
        "numerator = 10\n",
        "denominator = 10\n",
        "result = numerator / denominator\n",
        "print(int(result))"
      ],
      "metadata": {
        "colab": {
          "base_uri": "https://localhost:8080/"
        },
        "id": "gNuNDsjYFxrg",
        "outputId": "55b7a796-8751-4c02-be9e-133e663ea9d0"
      },
      "execution_count": 26,
      "outputs": [
        {
          "output_type": "stream",
          "name": "stdout",
          "text": [
            "1\n"
          ]
        }
      ]
    },
    {
      "cell_type": "code",
      "source": [
        "word1 = \"How\"\n",
        "word2 = \"do\"\n",
        "word3 = \"you\"\n",
        "word4 = \"like\"\n",
        "word5 = \"Python\"\n",
        "word6 = \"so\"\n",
        "word7 = \"far?\"\n",
        "\n",
        "print(word1+\" \"+word2+\" \"+word3+\" \"+word4+\" \"+word5+\" \"+word6+\" \"+word7)"
      ],
      "metadata": {
        "colab": {
          "base_uri": "https://localhost:8080/"
        },
        "id": "obrJwoXbFxuT",
        "outputId": "23ae545b-16bd-4d04-bf33-4c72f86a400c"
      },
      "execution_count": 28,
      "outputs": [
        {
          "output_type": "stream",
          "name": "stdout",
          "text": [
            "How do you like Python so far?\n"
          ]
        }
      ]
    },
    {
      "cell_type": "code",
      "source": [
        "#Functions"
      ],
      "metadata": {
        "id": "PgZrFZ2vFxxE"
      },
      "execution_count": 29,
      "outputs": []
    },
    {
      "cell_type": "code",
      "source": [
        "def greeting(name):\n",
        "  print(\"Welcome, \"+ name)\n",
        "greeting(\"Kay\")\n",
        "greeting(\"Roha\")"
      ],
      "metadata": {
        "colab": {
          "base_uri": "https://localhost:8080/"
        },
        "id": "j5TkEQlHQRrN",
        "outputId": "7443c669-9a17-4ac2-8ce1-4d00a2384b64"
      },
      "execution_count": 31,
      "outputs": [
        {
          "output_type": "stream",
          "name": "stdout",
          "text": [
            "Welcome, Kay\n",
            "Welcome, Roha\n"
          ]
        }
      ]
    },
    {
      "cell_type": "code",
      "source": [
        "def greeting(name, department):\n",
        "  print(\"Welcome, \"+ name)\n",
        "  print(\"You are part of \"+ department)\n",
        "greeting(\"Kay\", \"IT Support\")\n",
        "greeting(\"Roha\", \"Management\")"
      ],
      "metadata": {
        "colab": {
          "base_uri": "https://localhost:8080/"
        },
        "id": "_RQHMn97Qcv6",
        "outputId": "334ab16a-333a-4444-aaa6-f5d878cd2c75"
      },
      "execution_count": 32,
      "outputs": [
        {
          "output_type": "stream",
          "name": "stdout",
          "text": [
            "Welcome, Kay\n",
            "You are part of IT Support\n",
            "Welcome, Roha\n",
            "You are part of Management\n"
          ]
        }
      ]
    },
    {
      "cell_type": "code",
      "source": [
        "def area_triangle(base, height):\n",
        "  return base*height/2\n",
        "\n",
        "area_a = area_triangle(5, 4)\n",
        "area_b = area_triangle(7, 3)\n",
        "\n",
        "sum = area_a + area_b\n",
        "print(\"The sum of both area is: \"+ str(sum))\n"
      ],
      "metadata": {
        "colab": {
          "base_uri": "https://localhost:8080/"
        },
        "id": "JtYv6gM7RTrf",
        "outputId": "04fd631c-44c4-4390-f684-6f1be3b68ec7"
      },
      "execution_count": 33,
      "outputs": [
        {
          "output_type": "stream",
          "name": "stdout",
          "text": [
            "The sum of both area is: 20.5\n"
          ]
        }
      ]
    },
    {
      "cell_type": "code",
      "source": [
        "def convert_seconds(seconds):\n",
        "  hours = seconds // 3600\n",
        "  minutes = (seconds - hours *3600) // 60\n",
        "  remaining_seconds = seconds - hours * 3600 - minutes * 60\n",
        "  return hours, minutes, remaining_seconds\n",
        "\n",
        "hours, minutes, seconds = convert_seconds(5000)\n",
        "print(hours, minutes, seconds)"
      ],
      "metadata": {
        "colab": {
          "base_uri": "https://localhost:8080/"
        },
        "id": "lxe-EJaTRTuY",
        "outputId": "cc4233c8-eb4e-47d3-f1dd-ec67111f38a4"
      },
      "execution_count": 34,
      "outputs": [
        {
          "output_type": "stream",
          "name": "stdout",
          "text": [
            "1 23 20\n"
          ]
        }
      ]
    },
    {
      "cell_type": "code",
      "source": [
        "def greeting(name):\n",
        "  print(\"Welcome, \"+ name)\n",
        "result = greeting(\"Kay\")\n",
        "print(result)"
      ],
      "metadata": {
        "colab": {
          "base_uri": "https://localhost:8080/"
        },
        "id": "L2JA2NvcRTxE",
        "outputId": "d0a6ce12-b898-4bb6-a3f5-96fefb15e4fc"
      },
      "execution_count": 35,
      "outputs": [
        {
          "output_type": "stream",
          "name": "stdout",
          "text": [
            "Welcome, Kay\n",
            "None\n"
          ]
        }
      ]
    },
    {
      "cell_type": "code",
      "source": [
        "name = \"Kay\"\n",
        "number = len(name) * 9\n",
        "\n",
        "print(\"Hello \"+ name + \". Your lucky number is \"+ str(number))\n",
        "\n",
        "name = \"Katherine\"\n",
        "number = len(name) * 9\n",
        "\n",
        "print(\"Hello \"+ name + \". Your lucky number is \"+ str(number))"
      ],
      "metadata": {
        "colab": {
          "base_uri": "https://localhost:8080/"
        },
        "id": "mNPuu3fwRTzw",
        "outputId": "e15f294f-6e84-4bf1-8438-7ff9aed1758c"
      },
      "execution_count": 36,
      "outputs": [
        {
          "output_type": "stream",
          "name": "stdout",
          "text": [
            "Hello Kay. Your lucky number is 27\n",
            "Hello Katherine. Your lucky number is 81\n"
          ]
        }
      ]
    },
    {
      "cell_type": "code",
      "source": [
        "def lucky_number(name):\n",
        "  number = len(name) * 9\n",
        "  print(\"Hello \"+ name + \". Your lucky number is \"+ str(number))\n",
        "\n",
        "lucky_number(\"Roha\")\n",
        "lucky_number(\"Cameron\")\n"
      ],
      "metadata": {
        "colab": {
          "base_uri": "https://localhost:8080/"
        },
        "id": "BH1vL4x6RT2Y",
        "outputId": "4b4dc09c-955b-470f-9a22-291c9640b95e"
      },
      "execution_count": 37,
      "outputs": [
        {
          "output_type": "stream",
          "name": "stdout",
          "text": [
            "Hello Roha. Your lucky number is 36\n",
            "Hello Cameron. Your lucky number is 63\n"
          ]
        }
      ]
    },
    {
      "cell_type": "code",
      "source": [
        "#Refactor code\n",
        "def circle_area(radius):\n",
        "  pi = 3.14\n",
        "  area = pi * (radius ** 2)\n",
        "  print(area)\n",
        "\n",
        "circle_area(5)"
      ],
      "metadata": {
        "colab": {
          "base_uri": "https://localhost:8080/"
        },
        "id": "wAQbzobfRT42",
        "outputId": "1c4de5e2-be2e-4813-9232-d0f0a121dffe"
      },
      "execution_count": 38,
      "outputs": [
        {
          "output_type": "stream",
          "name": "stdout",
          "text": [
            "78.5\n"
          ]
        }
      ]
    },
    {
      "cell_type": "code",
      "source": [
        "# This function calculates the number of days in a variable number of\n",
        "# years, months, and days. These variables are provided by the user and\n",
        "# are passed to the function through the function’s parameters.\n",
        "def find_total_days(years, months, days):\n",
        "# Assign a variable to hold the calculations for the number of days in\n",
        "# a year (years*365) plus the number of days in a month (months*30) plus\n",
        "# the number of days provided through the \"days\" parameter variable.\n",
        "    my_days = (years*365) + (months*30) + days\n",
        "# Use the \"return\" keyword to send the result of the \"my_days\"\n",
        "# calculation to the function call.\n",
        "    return my_days\n",
        "\n",
        "# Function call with user provided parameter values.\n",
        "print(find_total_days(2,5,23))"
      ],
      "metadata": {
        "id": "TBbkfC8WRT7S"
      },
      "execution_count": null,
      "outputs": []
    },
    {
      "cell_type": "code",
      "source": [
        "# This function converts fluid ounces to milliliters and returns the\n",
        "# result of the conversion.\n",
        "def convert_volume(fluid_ounce):\n",
        "# Calculate value of the \"ml\" variable using the parameter variable\n",
        "# \"fluid_ounce\". There are approximately 29.5 milliliters in 1 fluid\n",
        "# ounce.\n",
        "    ml = fluid_ounce * 29.5\n",
        "# Return the result of the calculation.\n",
        "    return ml\n",
        "\n",
        "# Call the conversion from within the print() function using 2 fluid\n",
        "# ounces. Convert the return value from a float to a string.\n",
        "print(\"The volume in millimeters is \" + str(convert_volume(2)))\n",
        "\n",
        "# Call the function again and double the 2 fluid ounces from within\n",
        "# the print function.\n",
        "print(\"The volume in millimeters is \" + str(convert_volume(2)*2))\n",
        "# Alternative calculation:\n",
        "print(\"The volume in millimeters is \" + str(convert_volume(4)))\n",
        ""
      ],
      "metadata": {
        "colab": {
          "base_uri": "https://localhost:8080/"
        },
        "id": "EX5qoGAbRT96",
        "outputId": "67919913-d75a-488c-9e84-ee9ad100d3d8"
      },
      "execution_count": 43,
      "outputs": [
        {
          "output_type": "stream",
          "name": "stdout",
          "text": [
            "The volume in millimeters is 59.0\n",
            "The volume in millimeters is 118.0\n",
            "The volume in millimeters is 118.0\n"
          ]
        }
      ]
    },
    {
      "cell_type": "code",
      "source": [
        "# 1) Complete the function to return the result of the conversion\n",
        "def convert_distance(miles):\n",
        "\tkm = miles * 1.6  # approximately 1.6 km in 1 mile\n",
        "\treturn km\n",
        "\n",
        "# Do not indent any of the following lines of code as they are\n",
        "# meant to be located outside of the function above\n",
        "\n",
        "my_trip_miles = 55\n",
        "\n",
        "# 2) Convert my_trip_miles to kilometers by calling the function above\n",
        "my_trip_km =convert_distance(my_trip_miles)\n",
        "\n",
        "# 3) Fill in the blank to print the result of the my_trip_km conversion\n",
        "print(\"The distance in kilometers is \" + str(my_trip_km))\n",
        "\n",
        "# 4) Calculate the round-trip in kilometers by doubling the result of\n",
        "#    my_trip_km. Fill in the blank to print the result.\n",
        "print(\"The round-trip in kilometers is \" + str(my_trip_km*2))"
      ],
      "metadata": {
        "colab": {
          "base_uri": "https://localhost:8080/"
        },
        "id": "0J8tNeUPZeKf",
        "outputId": "bc622706-f26b-4273-ca41-d6bc1ec7c551"
      },
      "execution_count": 45,
      "outputs": [
        {
          "output_type": "stream",
          "name": "stdout",
          "text": [
            "The distance in kilometers is 88.0\n",
            "The round-trip in kilometers is 176.0\n"
          ]
        }
      ]
    },
    {
      "cell_type": "code",
      "source": [
        "# This function compares two numbers and returns them\n",
        "# in increasing order.\n",
        "def order_numbers(number1, number2):\n",
        "\tif number2 > number1:\n",
        "\t\treturn number1, number2\n",
        "\telse:\n",
        "\t\treturn number2, number1\n",
        "\n",
        "# 1) Fill in the blanks so the print statement displays the result\n",
        "#    of the function call\n",
        "smaller, bigger = order_numbers(100, 99)\n",
        "print(smaller, bigger)"
      ],
      "metadata": {
        "colab": {
          "base_uri": "https://localhost:8080/"
        },
        "id": "VlbPya7cZeNy",
        "outputId": "ffdd07ca-0f3c-410a-e206-bac55a8602ef"
      },
      "execution_count": 44,
      "outputs": [
        {
          "output_type": "stream",
          "name": "stdout",
          "text": [
            "99 100\n"
          ]
        }
      ]
    },
    {
      "cell_type": "code",
      "source": [
        "def print_seconds(hours, minutes, seconds):\n",
        "    print(hours*3600+minutes*60+seconds)\n",
        "\n",
        "\n",
        "print_seconds(1,2,3)\n",
        "#output will print to the screen\n"
      ],
      "metadata": {
        "colab": {
          "base_uri": "https://localhost:8080/"
        },
        "id": "luqSzouwZeQt",
        "outputId": "9d0b2d31-a8f2-4b22-e251-c7e568faee83"
      },
      "execution_count": 46,
      "outputs": [
        {
          "output_type": "stream",
          "name": "stdout",
          "text": [
            "3723\n"
          ]
        }
      ]
    },
    {
      "cell_type": "code",
      "source": [
        "print(10>1)"
      ],
      "metadata": {
        "colab": {
          "base_uri": "https://localhost:8080/"
        },
        "id": "CbE_xKhtZeTZ",
        "outputId": "a3c5b8a9-c55e-4a9b-a699-e4d733253103"
      },
      "execution_count": 1,
      "outputs": [
        {
          "output_type": "stream",
          "name": "stdout",
          "text": [
            "True\n"
          ]
        }
      ]
    },
    {
      "cell_type": "code",
      "source": [
        "print(\"Cat\" == \"Dog\")"
      ],
      "metadata": {
        "colab": {
          "base_uri": "https://localhost:8080/"
        },
        "id": "bgAcx0kiZeWV",
        "outputId": "814690fb-3420-4b6b-93bc-ba2220476727"
      },
      "execution_count": 2,
      "outputs": [
        {
          "output_type": "stream",
          "name": "stdout",
          "text": [
            "False\n"
          ]
        }
      ]
    },
    {
      "cell_type": "code",
      "source": [
        "print(1 != 2)"
      ],
      "metadata": {
        "colab": {
          "base_uri": "https://localhost:8080/"
        },
        "id": "-SR7P5fUZeZB",
        "outputId": "62a39fba-8b1a-4c0c-9640-6d95ec93467e"
      },
      "execution_count": 3,
      "outputs": [
        {
          "output_type": "stream",
          "name": "stdout",
          "text": [
            "True\n"
          ]
        }
      ]
    },
    {
      "cell_type": "code",
      "source": [
        "print(1 < \"1\")"
      ],
      "metadata": {
        "colab": {
          "base_uri": "https://localhost:8080/",
          "height": 175
        },
        "id": "F60HB-izZebx",
        "outputId": "c9be15c6-e078-4590-81ed-78fafb64c9b8"
      },
      "execution_count": 4,
      "outputs": [
        {
          "output_type": "error",
          "ename": "TypeError",
          "evalue": "ignored",
          "traceback": [
            "\u001b[0;31m---------------------------------------------------------------------------\u001b[0m",
            "\u001b[0;31mTypeError\u001b[0m                                 Traceback (most recent call last)",
            "\u001b[0;32m<ipython-input-4-b60d4374c865>\u001b[0m in \u001b[0;36m<cell line: 1>\u001b[0;34m()\u001b[0m\n\u001b[0;32m----> 1\u001b[0;31m \u001b[0mprint\u001b[0m\u001b[0;34m(\u001b[0m\u001b[0;36m1\u001b[0m \u001b[0;34m<\u001b[0m \u001b[0;34m\"1\"\u001b[0m\u001b[0;34m)\u001b[0m\u001b[0;34m\u001b[0m\u001b[0;34m\u001b[0m\u001b[0m\n\u001b[0m",
            "\u001b[0;31mTypeError\u001b[0m: '<' not supported between instances of 'int' and 'str'"
          ]
        }
      ]
    },
    {
      "cell_type": "code",
      "source": [
        "print(1 == \"1\")"
      ],
      "metadata": {
        "colab": {
          "base_uri": "https://localhost:8080/"
        },
        "id": "LXztUINGmR5N",
        "outputId": "bc90b738-a80e-4329-da59-9f29cdf026b3"
      },
      "execution_count": 5,
      "outputs": [
        {
          "output_type": "stream",
          "name": "stdout",
          "text": [
            "False\n"
          ]
        }
      ]
    },
    {
      "cell_type": "code",
      "source": [
        "print(\"Yellow\" > \"Cyan\" and \"Brown\" > \"Magenta\")"
      ],
      "metadata": {
        "colab": {
          "base_uri": "https://localhost:8080/"
        },
        "id": "sBWx784BmR8I",
        "outputId": "1fcbfcc6-b542-43b9-9aec-11fe53ddec04"
      },
      "execution_count": 6,
      "outputs": [
        {
          "output_type": "stream",
          "name": "stdout",
          "text": [
            "False\n"
          ]
        }
      ]
    },
    {
      "cell_type": "code",
      "source": [
        "print(25 > 50 or 1 != 2)"
      ],
      "metadata": {
        "colab": {
          "base_uri": "https://localhost:8080/"
        },
        "id": "L0dGZIjEmR_C",
        "outputId": "6a1d1d8e-70bd-465e-d3d8-979ee0ed992e"
      },
      "execution_count": 7,
      "outputs": [
        {
          "output_type": "stream",
          "name": "stdout",
          "text": [
            "True\n"
          ]
        }
      ]
    },
    {
      "cell_type": "code",
      "source": [
        "print(not 42 == \"Answer\")"
      ],
      "metadata": {
        "colab": {
          "base_uri": "https://localhost:8080/"
        },
        "id": "FVQlufnsmSBz",
        "outputId": "4f6b0ce2-8f0b-45f5-a038-98ab74e5b87b"
      },
      "execution_count": 8,
      "outputs": [
        {
          "output_type": "stream",
          "name": "stdout",
          "text": [
            "True\n"
          ]
        }
      ]
    },
    {
      "cell_type": "code",
      "source": [
        "\n",
        "print(32 == 30+2)   # The == operator checks if the 2 values are\n",
        "#True               # equal to each other. If they are equal,\n",
        "                    # Python returns a True result.\n",
        "\n",
        "\n",
        "print(5+10 == 6+7)  # If the two values are not equal, as in the\n",
        "#False              # expression 5+10 == 6+7 (or 15 == 13), Python\n",
        "                    # returns a False result.\n",
        "\n",
        "\n",
        "print(10-4 != 10+4) # The != operator checks if the 2 values are\n",
        "#True               # NOT equal to each other. If true, Python\n",
        "                    # returns a True result.\n",
        "\n",
        "\n",
        "print(9/3 != 3*1)   # In this last example, 9/3 != 3*1 (or 3 != 3)\n",
        "#False              # is false. So, Python returns a False value."
      ],
      "metadata": {
        "colab": {
          "base_uri": "https://localhost:8080/"
        },
        "id": "ctUga5_HmSEu",
        "outputId": "ed83bcde-4b71-40de-ea70-301bed877458"
      },
      "execution_count": 10,
      "outputs": [
        {
          "output_type": "stream",
          "name": "stdout",
          "text": [
            "True\n",
            "False\n",
            "True\n",
            "False\n"
          ]
        }
      ]
    },
    {
      "cell_type": "code",
      "source": [
        "\n",
        "# The = equals assignment operator is used to assign a value to a\n",
        "# variable.\n",
        "\n",
        "my_variable = 3*5           # Assigns a value to my_variable\n",
        "print(my_variable)          # Printing the variable returns the\n",
        "#15                         # value assigned to the variable.\n",
        "\n",
        "\n",
        "\n",
        "# The == equality comparison operator checks if the values of the two\n",
        "# expressions on either side of the == operator are equivalent to one\n",
        "# another.\n",
        "\n",
        "print(my_variable == 3*5)   # Printing the variable returns a Boolean\n",
        "#True                       # True or False result."
      ],
      "metadata": {
        "colab": {
          "base_uri": "https://localhost:8080/"
        },
        "id": "pbpN2z1VmSHa",
        "outputId": "74df289f-b0c1-4470-8c7a-a8fb7273d3fa"
      },
      "execution_count": 11,
      "outputs": [
        {
          "output_type": "stream",
          "name": "stdout",
          "text": [
            "15\n",
            "True\n"
          ]
        }
      ]
    },
    {
      "cell_type": "code",
      "source": [
        "\n",
        "print(11 > 3*3)         # The > operator checks if the left value is\n",
        "#True                   # greater than the right value. If true, it\n",
        "                        # returns a True result.\n",
        "\n",
        "\n",
        "print(4/2 > 8-4)        # If the > operator finds that the left value\n",
        "#False                  # is NOT greater than the right value, the\n",
        "                        # comparison will return a False result.\n",
        "\n",
        "\n",
        "print(4/2 < 8-4)        # The < operator checks  if the left value is\n",
        "#True                   # less than the right side. If true, the\n",
        "                        # comparison returns a True result.\n",
        "\n",
        "\n",
        "print(11 < 3*3)         # If the < operator finds that the left side is False\n",
        "                        # NOT less than the right value, Python returns\n",
        "#False                  # a False result."
      ],
      "metadata": {
        "colab": {
          "base_uri": "https://localhost:8080/"
        },
        "id": "yFXd6unVmSJu",
        "outputId": "41747384-23e6-4e8a-c8bc-eb305dd98aeb"
      },
      "execution_count": 12,
      "outputs": [
        {
          "output_type": "stream",
          "name": "stdout",
          "text": [
            "True\n",
            "False\n",
            "True\n",
            "False\n"
          ]
        }
      ]
    },
    {
      "cell_type": "code",
      "source": [
        "\n",
        "print(12*2 >= 24)   # The >= operator checks if the left value is\n",
        "#True               # greater than or equal to the right value.\n",
        "                    # If one of these conditions is true,\n",
        "                    # Python returns a True result. In this case\n",
        "                    # the two values are equal. So, the comparison\n",
        "                    # returns a True result.\n",
        "\n",
        "\n",
        "print(18/2 >= 15)   # If the >= comparison determines that the left False\n",
        "#False              # value is NOT greater than or equal to the\n",
        "                    # right, it returns a False result.\n",
        "\n",
        "print(12*2 <= 30)   # The <= operator checks if the left value is\n",
        "#True               # less than or equal to the right value. In\n",
        "                    # this case, the left value is less than the\n",
        "                    # right value. Again, if one of the two\n",
        "                    # conditions is true, Python returns a True\n",
        "                    # result.\n",
        "\n",
        "\n",
        "print(15 <= 18/2)   # If the <= comparison determines that the left\n",
        "#False              # value is NOT less than or equal to the right\n",
        "                    # value, the comparison returns a False result."
      ],
      "metadata": {
        "colab": {
          "base_uri": "https://localhost:8080/"
        },
        "id": "oQHgr5llmSMN",
        "outputId": "0474ca6a-3412-48e9-8b72-bfc20bf42a7c"
      },
      "execution_count": 13,
      "outputs": [
        {
          "output_type": "stream",
          "name": "stdout",
          "text": [
            "True\n",
            "False\n",
            "True\n",
            "False\n"
          ]
        }
      ]
    },
    {
      "cell_type": "code",
      "source": [
        "# The == operator can check if two strings are equal to each other.\n",
        "# If they are equal, the Python interpreter returns a True result.\n",
        "print(\"a string\" == \"a string\")\n",
        "#True\n",
        "\n",
        "\n",
        "# In this example, the equality == comparison is between \"4 + 5\" and\n",
        "# 4 + 5. Since the left data type is a string and the right data type\n",
        "# is an integer, the two values cannot be equal. So, the comparison\n",
        "# returns a False result.\n",
        "print(\"4 + 5\" == 4 + 5)\n",
        "#False\n",
        "\n",
        "\n",
        "# The != operator can check if the two strings are NOT equal to each\n",
        "# other. If they are indeed not equal, then Python returns a True result.\n",
        "print(\"rabbit\" != \"frog\")\n",
        "#True\n",
        "\n",
        "\n",
        "# In this example, the variable event_city has been assigned the string\n",
        "# value \"Shanghai\". This variable is compared to a static string,\n",
        "# \"Shanghai\", using the != operator. As, the strings \"Shanghai\" and\n",
        "# \"Shanghai\" are the same, the comparison of \"Shanghai\" != \"Shanghai\"\n",
        "# is false. Accordingly, Python will return a False result.\n",
        "event_city = \"Shanghai\"\n",
        "print(event_city != \"Shanghai\")\n",
        "#False\n",
        "\n",
        "# This last example illustrates the result of trying to compare two\n",
        "# items of different data types using the equality == operator. The\n",
        "# two items are not equal, so the comparison returns False.\n",
        "print(\"three\" == 3)\n",
        "#False\n"
      ],
      "metadata": {
        "colab": {
          "base_uri": "https://localhost:8080/"
        },
        "id": "CXX4EetLphom",
        "outputId": "db4ff662-f41d-4c03-b99d-e39182405cc8"
      },
      "execution_count": 14,
      "outputs": [
        {
          "output_type": "stream",
          "name": "stdout",
          "text": [
            "True\n",
            "False\n",
            "True\n",
            "False\n",
            "False\n"
          ]
        }
      ]
    },
    {
      "cell_type": "code",
      "source": [
        "# The greater than > operator checks if the left string has a higher\n",
        "# Unicode value than the right string. If true, the Python interpreter\n",
        "# returns a True result. Since W has a Unicode value of 87, and you can\n",
        "# easily calculate that F has a Unicode value of 70, this comparison is\n",
        "# the same as 87 > 70. As this is true, Python will return a True\n",
        "# result.\n",
        "print(\"Wednesday\" > \"Friday\")\n",
        "#True\n",
        "\n",
        "\n",
        "# The less than < operator checks if the left string has a lower\n",
        "# Unicode value than the right string. If you reference the Unicode\n",
        "# chart above, you can see that all lowercase letters have higher\n",
        "# Unicode values than uppercase letters. We can see that B has a\n",
        "# Unicode value of 66 and b has a Unicode value of 98. This\n",
        "# comparison is the same as 66 < 98, which is true. So, Python will\n",
        "# return a True result.\n",
        "print(\"Brown\" < \"brown\")\n",
        "#True\n",
        "\n",
        "\n",
        "# If the strings have the same first few letters, the comparison will\n",
        "# cycle through each letter of each string, from left to right until it\n",
        "# finds two letters that have different Unicode values. In this example,\n",
        "# both strings share the initial substring \"sun\", but then have\n",
        "# different letters with different Unicode values in the fourth place\n",
        "# in each string. So, the fourth letters 'b' and 't' of the two\n",
        "# strings are used for the comparison. Since 'b' does not have a higher\n",
        "# Unicode value than 't', the comparison returns a False result.\n",
        "print(\"sunbathe\" > \"suntan\")\n",
        "#False\n",
        "\n",
        "\n",
        "# If two identical strings are compared using the less than < comparison\n",
        "# operator, this will produce a False result because they are equal.\n",
        "print(\"Lima\" < \"Lima\")\n",
        "#False\n",
        "\n",
        "\n",
        "# This last example illustrates the result of trying to compare two\n",
        "# items of different data types using the less than < operator. The\n",
        "# greater than > and less than operators < cannot be used to compare\n",
        "# two different data types.\n",
        "print(\"Five\" < 6)\n",
        "'''\n",
        "Error on line 1:\n",
        "    print(\"Five\" < 6)\n",
        "TypeError: '<' not supported between instances of 'str' and 'int'\n",
        "'''\n"
      ],
      "metadata": {
        "colab": {
          "base_uri": "https://localhost:8080/",
          "height": 314
        },
        "id": "RSx60byxphrv",
        "outputId": "369113fe-9cf1-4485-bbdc-f4ca6383c5b4"
      },
      "execution_count": 17,
      "outputs": [
        {
          "output_type": "stream",
          "name": "stdout",
          "text": [
            "True\n",
            "True\n",
            "False\n",
            "False\n"
          ]
        },
        {
          "output_type": "error",
          "ename": "TypeError",
          "evalue": "ignored",
          "traceback": [
            "\u001b[0;31m---------------------------------------------------------------------------\u001b[0m",
            "\u001b[0;31mTypeError\u001b[0m                                 Traceback (most recent call last)",
            "\u001b[0;32m<ipython-input-17-b65d3ecaba15>\u001b[0m in \u001b[0;36m<cell line: 44>\u001b[0;34m()\u001b[0m\n\u001b[1;32m     42\u001b[0m \u001b[0;31m# greater than > and less than operators < cannot be used to compare\u001b[0m\u001b[0;34m\u001b[0m\u001b[0;34m\u001b[0m\u001b[0m\n\u001b[1;32m     43\u001b[0m \u001b[0;31m# two different data types.\u001b[0m\u001b[0;34m\u001b[0m\u001b[0;34m\u001b[0m\u001b[0m\n\u001b[0;32m---> 44\u001b[0;31m \u001b[0mprint\u001b[0m\u001b[0;34m(\u001b[0m\u001b[0;34m\"Five\"\u001b[0m \u001b[0;34m<\u001b[0m \u001b[0;36m6\u001b[0m\u001b[0;34m)\u001b[0m\u001b[0;34m\u001b[0m\u001b[0;34m\u001b[0m\u001b[0m\n\u001b[0m\u001b[1;32m     45\u001b[0m '''\n\u001b[1;32m     46\u001b[0m \u001b[0mError\u001b[0m \u001b[0mon\u001b[0m \u001b[0mline\u001b[0m \u001b[0;36m1\u001b[0m\u001b[0;34m:\u001b[0m\u001b[0;34m\u001b[0m\u001b[0;34m\u001b[0m\u001b[0m\n",
            "\u001b[0;31mTypeError\u001b[0m: '<' not supported between instances of 'str' and 'int'"
          ]
        }
      ]
    },
    {
      "cell_type": "code",
      "source": [
        "# Use the Unicode chart in Part 2 to determine if the Unicode values of\n",
        "# the first letters of each string are higher, lower, or equal to one\n",
        "# another.\n",
        "\n",
        "\n",
        "var1 = \"my computer\" >= \"my chair\"\n",
        "var2 = \"Spring\" <= \"Winter\"\n",
        "var3 = \"pineapple\" >= \"pineapple\"\n",
        "\n",
        "print(\"Is \\\"my computer\\\" greater than or equal to \\\"my chair\\\"? Result: \", var1)\n",
        "print(\"Is \\\"Spring\\\" less than or equal to \\\"Winter\\\"? Result: \", var2)\n",
        "print(\"Is \\\"pineapple\\\" less than or equal to \\\"pineapple\\\"? Result: \", var3)"
      ],
      "metadata": {
        "colab": {
          "base_uri": "https://localhost:8080/"
        },
        "id": "gXxZwbZWphup",
        "outputId": "a01fc5b6-fc73-4ca3-f6d0-d8c04ce688fd"
      },
      "execution_count": 18,
      "outputs": [
        {
          "output_type": "stream",
          "name": "stdout",
          "text": [
            "Is \"my computer\" greater than or equal to \"my chair\"? Result:  True\n",
            "Is \"Spring\" less than or equal to \"Winter\"? Result:  True\n",
            "Is \"pineapple\" less than or equal to \"pineapple\"? Result:  True\n"
          ]
        }
      ]
    },
    {
      "cell_type": "code",
      "source": [
        "# Example 1\n",
        "\n",
        "print((6*3 >= 18) and (9+9 <= 36/2))"
      ],
      "metadata": {
        "colab": {
          "base_uri": "https://localhost:8080/"
        },
        "id": "26j01U3lphwr",
        "outputId": "be49cd97-086c-43f4-9366-d588ec384298"
      },
      "execution_count": 19,
      "outputs": [
        {
          "output_type": "stream",
          "name": "stdout",
          "text": [
            "True\n"
          ]
        }
      ]
    },
    {
      "cell_type": "code",
      "source": [
        "# Example 2\n",
        "\n",
        "print(\"Nairobi\" < \"Milan\" and \"Nairobi\" > \"Hanoi\")"
      ],
      "metadata": {
        "colab": {
          "base_uri": "https://localhost:8080/"
        },
        "id": "g5m5NJ-dphzw",
        "outputId": "b3251b4c-7acd-44d5-d262-ed9faac6fb76"
      },
      "execution_count": 20,
      "outputs": [
        {
          "output_type": "stream",
          "name": "stdout",
          "text": [
            "False\n"
          ]
        }
      ]
    },
    {
      "cell_type": "code",
      "source": [
        "# True or True returns True\n",
        "print((15/3 < 2+4) or (0 >= 6-7))\n",
        "#True\n",
        "\n",
        "# False or True returns True\n",
        "#print(country == \"New York City\" or city == \"New York City\")\n",
        "#True\n",
        "\n",
        "# True or False returns True\n",
        "print(16 <= 4**2 or 9**(0.5) != 3)\n",
        "#True\n",
        "\n",
        "# False or False returns False\n",
        "print(\"B_name\" > \"C_name\" or \"B_name\" < \"A_name\")\n",
        "#False"
      ],
      "metadata": {
        "colab": {
          "base_uri": "https://localhost:8080/"
        },
        "id": "DjuXQQWKph3h",
        "outputId": "6f52ab51-a728-4723-c6ff-00eb4589f460"
      },
      "execution_count": 24,
      "outputs": [
        {
          "output_type": "stream",
          "name": "stdout",
          "text": [
            "True\n",
            "True\n",
            "False\n"
          ]
        }
      ]
    },
    {
      "cell_type": "code",
      "source": [
        "# Test Example 1:\n",
        "\n",
        "x = 2*3 > 6\n",
        "print(\"The value of x is:\")\n",
        "print(x)\n",
        "\n",
        "print(\"\")  # Prints a blank line\n",
        "\n",
        "print(\"The inverse value of x is:\")\n",
        "print(not x)"
      ],
      "metadata": {
        "colab": {
          "base_uri": "https://localhost:8080/"
        },
        "id": "r7qtga9zph6w",
        "outputId": "0adafd52-333d-486c-a1ab-11b8f8bba05c"
      },
      "execution_count": 25,
      "outputs": [
        {
          "output_type": "stream",
          "name": "stdout",
          "text": [
            "The value of x is:\n",
            "False\n",
            "\n",
            "The inverse value of x is:\n",
            "True\n"
          ]
        }
      ]
    },
    {
      "cell_type": "code",
      "source": [
        "# What happens when you negate a False statement?\n",
        "# Click Run when you are ready to check your answer.\n",
        "\n",
        "\n",
        "today = \"Monday\"\n",
        "print(not today == \"Tuesday\")\n",
        "\n",
        "\n",
        "# The \"today\" variable states today is Monday. This makes the comparison\n",
        "# \"today == Tuesday\" False. The logical operator \"not\" inverts the False\n",
        "# result to become True. In other words, this expression asks if it is\n",
        "# false that today is not Tuesday. More succinctly, \"not False\" means\n",
        "# True.\"\n"
      ],
      "metadata": {
        "colab": {
          "base_uri": "https://localhost:8080/"
        },
        "id": "g0CMUTApE5tb",
        "outputId": "1d24a3ae-a9b7-4c96-e4b3-49240fe31507"
      },
      "execution_count": 26,
      "outputs": [
        {
          "output_type": "stream",
          "name": "stdout",
          "text": [
            "True\n"
          ]
        }
      ]
    },
    {
      "cell_type": "code",
      "source": [
        "def hint_username(username):\n",
        "  if len(username) < 3:\n",
        "    print(\"Invalid username. Must be atleast 3 characters long\")\n",
        "  else:\n",
        "    print(\"Valid Username\")"
      ],
      "metadata": {
        "id": "I2kaBbHeE5v5"
      },
      "execution_count": 27,
      "outputs": []
    },
    {
      "cell_type": "code",
      "source": [
        "def is_even(number):\n",
        "  if number % 2 == 0:\n",
        "    return True\n",
        "  return False"
      ],
      "metadata": {
        "id": "qjyfOJMvE5yR"
      },
      "execution_count": 28,
      "outputs": []
    },
    {
      "cell_type": "code",
      "source": [
        "def hint_username(username):\n",
        "  if len(username) < 3:\n",
        "    print(\"Invalid username. Must be atleast 3 characters long\")\n",
        "  else:\n",
        "    if len(username) > 15:\n",
        "      print(\"Invalid Ussername. Must be at most 15 characters long\")\n",
        "    else:\n",
        "      print(\"Valid Username\")"
      ],
      "metadata": {
        "id": "b4Vuy1eTE51Y"
      },
      "execution_count": 29,
      "outputs": []
    },
    {
      "cell_type": "code",
      "source": [
        "def hint_username(username):\n",
        "  if len(username) < 3:\n",
        "    print(\"Invalid username. Must be atleast 3 characters long\")\n",
        "\n",
        "  elif len(username) > 15:\n",
        "    print(\"Invalid Ussername. Must be at most 15 characters long\")\n",
        "  else:\n",
        "    print(\"Valid Username\")"
      ],
      "metadata": {
        "id": "AA2-TljNE537"
      },
      "execution_count": 30,
      "outputs": []
    },
    {
      "cell_type": "code",
      "source": [
        "# The value of 10*4 (40) is greater than 14+23 (37), therefore this\n",
        "# comparison expression will return the Boolean value of True.\n",
        "\n",
        "\n",
        "print(10*4 > 14+23) # Should print True\n",
        "\n",
        "# The letter \"t\" has a Unicode value of 116 and the letter \"s\" has a\n",
        "# Unicode value of 115. Since 116 is not less than 115, the\n",
        "# comparison of \"tall\" < \"short\" (or 116 < 115) is False.\n",
        "\n",
        "print(\"tall\" < \"short\")  # Should print False"
      ],
      "metadata": {
        "colab": {
          "base_uri": "https://localhost:8080/"
        },
        "id": "4wqHy1q-E56a",
        "outputId": "21ce1551-5e69-4cd2-8868-28de83f1a8bc"
      },
      "execution_count": 31,
      "outputs": [
        {
          "output_type": "stream",
          "name": "stdout",
          "text": [
            "True\n",
            "False\n"
          ]
        }
      ]
    },
    {
      "cell_type": "code",
      "source": [
        "# This function accepts one variable as a parameter\n",
        "def translate_error_code(error_code):\n",
        "\n",
        "# The if-elif-else block assesses the value of the variable\n",
        "# passed to the function as a parameter. The if statement uses\n",
        "# the equality operator == to test the value of the variable.\n",
        "# This test returns a Boolean (True/False) result.\n",
        "    if error_code == \"401 Unauthorized\":\n",
        "# If the comparison above returns True, then the indented\n",
        "# line(s) inside the if-statement will run. In this case, the\n",
        "# action is to assign a string to the translation variable.\n",
        "# The remainder of the if-elif-else block will not run.\n",
        "# The Python interpreter will skip to the next line outside of\n",
        "# the if-elif-else block. In this case, the next line is the\n",
        "# return value statement.\n",
        "        translation = \"Server received an unauthenticated request\"\n",
        "\n",
        "# If the initial if-statement returns a False result, then the\n",
        "# first elif-statement will run a different test on the value\n",
        "# of the variable.\n",
        "    elif error_code == \"404 Not Found\":\n",
        "# If the first elif-statement returns a True result, then the\n",
        "# indented line(s) inside the first elif-statement will run.\n",
        "# After this line, the remainder of the if-elif-else block will\n",
        "# not run. The Python interpreter will skip to the next line\n",
        "# outside of the if-elif-else block.\n",
        "        translation = \"Requested web page not found on server\"\n",
        "\n",
        "# If both the initial if-statement and the first elif-statement\n",
        "# return a False result, then the second elif-statement will\n",
        "# run.\n",
        "    elif error_code == \"408 Request Timeout\":\n",
        "# If the second elif-statement returns a True result, then the\n",
        "# indented line(s) inside the second elif-statement will run.\n",
        "# After this line, the remainder of the if-elif-else block will\n",
        "# not run. The Python interpreter will skip to the next line\n",
        "# outside of the if-elif-else block.\n",
        "        translation = \"Server request to close unused connection\"\n",
        "\n",
        "# If the conditional tests above do not produce a True result\n",
        "# then the else-statement will run.\n",
        "    else:\n",
        "        translation = \"Unknown error code\"\n",
        "# The if-elif-else block ends.\n",
        "\n",
        "# The next line outside of the if-elif-else block will run\n",
        "# after exiting the block. In this case, the next line returns\n",
        "# the output from the if-elif-else block.\n",
        "    return translation\n",
        "\n",
        "# The print() function allows us to display the output of the\n",
        "# function. To call a function in a print statement, the syntax\n",
        "# is print(name_of_function(parameter))\n",
        "print(translate_error_code(\"404 Not Found\"))\n",
        "\n",
        "# Expected output:\n",
        "# Requested web page not found on server"
      ],
      "metadata": {
        "colab": {
          "base_uri": "https://localhost:8080/"
        },
        "id": "08wQjY8dLGl3",
        "outputId": "fe2b70c6-7256-42e0-aa9d-cdf4d159b9eb"
      },
      "execution_count": 32,
      "outputs": [
        {
          "output_type": "stream",
          "name": "stdout",
          "text": [
            "Requested web page not found on server\n"
          ]
        }
      ]
    },
    {
      "cell_type": "code",
      "source": [
        "# Sets value of the \"number\" variable\n",
        "number = 25\n",
        "\n",
        "# The \"number\" variable will first be compared to 5. Since it is\n",
        "# False that \"number\" is not less than or equal to 5, the expression indented\n",
        "# under this line will be ignored.\n",
        "if number <= 5:\n",
        "   print(\"The number is 5 or smaller.\")\n",
        "\n",
        "# Next, the \"number\" variable will be compared to 33. Since it is\n",
        "# False that \"number\" is equal to 33, the expression indented under\n",
        "# this line will be ignored.\n",
        "elif number == 33:\n",
        "   print(\"The number is 33.\")\n",
        "\n",
        "# Then, the \"number\" variable will be compared to 32 and 6. Since it\n",
        "# is True that 25 is less than 32 and greater than 6, the Python\n",
        "# interpreter will print \"The number is less than 32 and/or greater\n",
        "# than 6.\" Then, it will exit the if-elif-else statement and the remainder\n",
        "# of the if-elif-else statement will be ignored.\n",
        "elif number < 32 and number >= 6:\n",
        "   print(\"The number is less than 32 and greater than 6.\")\n",
        "\n",
        "else:\n",
        "   print(\"The number is \" + str(number))\n",
        "\n",
        "# Expected output is:\n",
        "# The number is less than 32 and greater than 6.\n"
      ],
      "metadata": {
        "colab": {
          "base_uri": "https://localhost:8080/"
        },
        "id": "WpHyUcQrLGpT",
        "outputId": "3dc6691d-d04c-486a-947e-cc278e79fb93"
      },
      "execution_count": 33,
      "outputs": [
        {
          "output_type": "stream",
          "name": "stdout",
          "text": [
            "The number is less than 32 and greater than 6.\n"
          ]
        }
      ]
    },
    {
      "cell_type": "code",
      "source": [
        "# This function rounds a variable number up to the nearest 10x value\n",
        "def round_up(number):\n",
        "  x = 10\n",
        "# The floor division operator will calculate the integer value of\n",
        "# \"number\" divided by x: 35 // 10 will return the integer 3.\n",
        "  whole_number = number // x\n",
        "# The modulo operator will calculate the remainder value of \"number\"\n",
        "# divided by x: 35 % 10 will return the remainder value 5.\n",
        "  remainder = number % x\n",
        "# If the remainder is greater than 0:\n",
        "  if remainder >= 5:\n",
        "# Return x multiplied by the (whole_number+1) to round up\n",
        "    return x*(whole_number+1)\n",
        "# Else, return x multiplied by the whole_number to round down\n",
        "  return x*whole_number\n",
        "\n",
        "# Calls the function with the parameter value of 35.\n",
        "print(round_up(35)) # Should print 40"
      ],
      "metadata": {
        "colab": {
          "base_uri": "https://localhost:8080/"
        },
        "id": "yTpq8VOBLGsL",
        "outputId": "84416a9e-1c63-4d9b-f84d-985efa80da3d"
      },
      "execution_count": 34,
      "outputs": [
        {
          "output_type": "stream",
          "name": "stdout",
          "text": [
            "40\n"
          ]
        }
      ]
    },
    {
      "cell_type": "code",
      "source": [
        "def greeting(name):\n",
        "  if name == \"Taylor\":\n",
        "    return \"Welcome back Taylor!\"\n",
        "  else:\n",
        "    return \"Hello there, \" + name\n",
        "\n",
        "print(greeting(\"Taylor\"))\n",
        "print(greeting(\"John\"))"
      ],
      "metadata": {
        "colab": {
          "base_uri": "https://localhost:8080/"
        },
        "id": "GKvmtnJiLGvs",
        "outputId": "444e05f9-23e7-4dda-903d-4e499849392f"
      },
      "execution_count": 35,
      "outputs": [
        {
          "output_type": "stream",
          "name": "stdout",
          "text": [
            "Welcome back Taylor!\n",
            "Hello there, John\n"
          ]
        }
      ]
    },
    {
      "cell_type": "code",
      "source": [
        "number = 10\n",
        "if number > 11:\n",
        "  print(0)\n",
        "elif number != 10:\n",
        "  print(1)\n",
        "elif number >= 20 or number < 12:\n",
        "  print(2)\n",
        "else:\n",
        "  print(3)"
      ],
      "metadata": {
        "colab": {
          "base_uri": "https://localhost:8080/"
        },
        "id": "Yd77pCozLGyK",
        "outputId": "e2048484-0b2d-4219-ad72-12ab40f0eb23"
      },
      "execution_count": 36,
      "outputs": [
        {
          "output_type": "stream",
          "name": "stdout",
          "text": [
            "2\n"
          ]
        }
      ]
    },
    {
      "cell_type": "code",
      "source": [
        "def calculate_storage(filesize):\n",
        "    block_size = 4096\n",
        "    # Use floor division to calculate how many blocks are fully occupied\n",
        "    full_blocks = filesize // block_size\n",
        "    # Use the modulo operator to check whether there's any remainder\n",
        "    partial_block_remainder = filesize % block_size\n",
        "    # Depending on whether there's a remainder or not, return\n",
        "    # the total number of bytes required to allocate enough blocks\n",
        "    # to store your data.\n",
        "    if partial_block_remainder > 0:\n",
        "        return (full_blocks + 1) * block_size\n",
        "    return full_blocks * block_size\n",
        "\n",
        "print(calculate_storage(1))    # Should be 4096\n",
        "print(calculate_storage(4096)) # Should be 4096\n",
        "print(calculate_storage(4097)) # Should be 8192\n",
        "print(calculate_storage(6000)) # Should be 8192"
      ],
      "metadata": {
        "colab": {
          "base_uri": "https://localhost:8080/"
        },
        "id": "o4PVHrR1LG3r",
        "outputId": "ab08d91e-ccf1-412d-c768-747e1cb4d72e"
      },
      "execution_count": 37,
      "outputs": [
        {
          "output_type": "stream",
          "name": "stdout",
          "text": [
            "4096\n",
            "4096\n",
            "8192\n",
            "8192\n"
          ]
        }
      ]
    },
    {
      "cell_type": "code",
      "source": [
        "# A function is created with the def() keyword. The parameter\n",
        "# variable \"time_as_string\" is passed to the function through a\n",
        "# call to the function.\n",
        "def task_reminder(time_as_string):\n",
        "\n",
        "    # The following if-elif-else block assigns various strings to\n",
        "    # the variable \"task\" depending on specific conditions. The\n",
        "    # test conditions are set using the == equality comparison\n",
        "    # operator. In this case, the time passed through the\n",
        "    # \"time_as_string\" parameter variable is tested as the\n",
        "    # specific condition. So, if the time  is \"11:30 a.m.\", then\n",
        "    # \"task\" is assigned the value: \"Run TPS report\".\n",
        "    if time_as_string == \"8:00 a.m.\":\n",
        "        task = \"Check overnight backup images\"\n",
        "    elif time_as_string == \"11:30 a.m.\":\n",
        "        task = \"Run TPS report\"\n",
        "    elif time_as_string == \"5:30 p.m.\":\n",
        "        task = \"Reboot servers\"\n",
        "    # The else statement is a catchall for all other values of\n",
        "    # the \"time_as_string\" parameter variable not listed in the\n",
        "    # if-elif block of code.\n",
        "    else:\n",
        "        task = \"Provide IT Support to employees\"\n",
        "\n",
        "    # This line returns the value of \"task\" to the function call.\n",
        "    return task\n",
        "\n",
        "# This line calls the function and passes a parameter\n",
        "# (\"10:00 a.m.\") to the function.\n",
        "print(task_reminder(\"10:00 a.m.\"))\n",
        "# Should print \"Provide IT Support to employees\"\n"
      ],
      "metadata": {
        "colab": {
          "base_uri": "https://localhost:8080/"
        },
        "id": "SihiOsZ2O6r8",
        "outputId": "34e9626c-6578-4f3f-aa91-d77a3d271bd0"
      },
      "execution_count": 38,
      "outputs": [
        {
          "output_type": "stream",
          "name": "stdout",
          "text": [
            "Provide IT Support to employees\n"
          ]
        }
      ]
    },
    {
      "cell_type": "code",
      "source": [
        "# Example 1\n",
        "# Evaluate the output of this print statement\n",
        "\n",
        "def product(a, b):\n",
        "        return(a*b)\n",
        "\n",
        "print(product(product(2,4), product(3,5)))\n",
        "\n",
        "#################################\n",
        "\n",
        "# Example 2\n",
        "# Evaluate the output of this print statement\n",
        "\n",
        "def difference(a, b):\n",
        "        return(a-b)\n",
        "\n",
        "def sum(a, b):\n",
        "        return(a+b)\n",
        "\n",
        "print(difference(sum(2,2), sum(3,3)))\n",
        "\n",
        "\n",
        "#################################\n",
        "\n",
        "\n",
        "# Example 3\n",
        "# Evaluate the Boolean output of this comparison\n",
        "\n",
        "\n",
        "print((5 >= 2*4) and (5 <= 4*3))\n",
        "\n",
        "\n",
        "#################################\n",
        "\n",
        "\n",
        "# Example 4\n",
        "# Evaluate the value of the comparison in the if statement\n",
        "\n",
        "\n",
        "x = 3\n",
        "if x+5 > x**2 or x % 4 != 0:\n",
        "        print(\"This comparison is True\")\n",
        "\n",
        "\n",
        "#################################\n",
        "\n",
        "\n",
        "# Example 5\n",
        "# Evaluate the output of this if-elif-else statement\n",
        "\n",
        "\n",
        "number = 6\n",
        "if number * 2 < 14:\n",
        "        print(number * 6 % 3)\n",
        "elif number > 7:\n",
        "        print(100 / number)\n",
        "else:\n",
        "        print(7 - number)\n",
        "\n",
        "\n",
        "# Click Run to check your answers. If you are having trouble\n",
        "# calculating the correct answers manually, please review the\n",
        "# Practice Quiz Study Guides, videos, and readings in this Module.\n"
      ],
      "metadata": {
        "colab": {
          "base_uri": "https://localhost:8080/"
        },
        "id": "fYWNbSFyO6vT",
        "outputId": "b840f2c3-26a6-4565-86f2-331ad646d889"
      },
      "execution_count": 39,
      "outputs": [
        {
          "output_type": "stream",
          "name": "stdout",
          "text": [
            "120\n",
            "-2\n",
            "False\n",
            "This comparison is True\n",
            "0\n"
          ]
        }
      ]
    },
    {
      "cell_type": "code",
      "source": [
        "def get_remainder(x, y):\n",
        "\n",
        "  if x == 0 or y == 0 or x ==y:\n",
        "    remainder = 0\n",
        "  else:\n",
        "    remainder = (x % y) / y\n",
        "  return remainder\n",
        "\n",
        "\n",
        "print(get_remainder(10, 3))\n"
      ],
      "metadata": {
        "colab": {
          "base_uri": "https://localhost:8080/"
        },
        "id": "sBLv2GFEQ7d_",
        "outputId": "5a0cc253-d2e1-4eaf-8cee-f18cf0e11c88"
      },
      "execution_count": 40,
      "outputs": [
        {
          "output_type": "stream",
          "name": "stdout",
          "text": [
            "0.3333333333333333\n"
          ]
        }
      ]
    },
    {
      "cell_type": "code",
      "source": [
        "def make_positive(number):\n",
        "    if number < 0:\n",
        "        result = number * -1\n",
        "    else:\n",
        "        result = number\n",
        "    return result\n",
        "\n",
        "\n",
        "print(make_positive(-4))   # Should print 4\n",
        "print(make_positive(0))    # Should print 0\n",
        "print(make_positive(-.25)) # Should print 0.25\n",
        "print(make_positive(5))    # Should print 5"
      ],
      "metadata": {
        "colab": {
          "base_uri": "https://localhost:8080/"
        },
        "id": "xXZjPQUES3iU",
        "outputId": "41e10e7d-5cd5-4ee7-8ab6-591ee29bbdd6"
      },
      "execution_count": 41,
      "outputs": [
        {
          "output_type": "stream",
          "name": "stdout",
          "text": [
            "4\n",
            "0\n",
            "0.25\n",
            "5\n"
          ]
        }
      ]
    },
    {
      "cell_type": "code",
      "source": [
        "def greater_value(x, y):\n",
        "    if x > y:\n",
        "        return x\n",
        "    else:\n",
        "       return y\n",
        "\n",
        "\n",
        "print(greater_value(10,3*5))"
      ],
      "metadata": {
        "colab": {
          "base_uri": "https://localhost:8080/"
        },
        "id": "IK02kdSuS3lQ",
        "outputId": "a3cc75fe-817c-4981-871c-634c32ea0a74"
      },
      "execution_count": 42,
      "outputs": [
        {
          "output_type": "stream",
          "name": "stdout",
          "text": [
            "15\n"
          ]
        }
      ]
    },
    {
      "cell_type": "code",
      "source": [
        "name = \"Marjery\"\n",
        "home_address = \"1234 Mockingbird Lane\"\n",
        "print(name + \" lives at her home address of \" + home_address)\n",
        "# Should print \"Marjery lives at her home address of 1234 Mockingbird Lane\""
      ],
      "metadata": {
        "colab": {
          "base_uri": "https://localhost:8080/"
        },
        "id": "wtln6aXtS3n1",
        "outputId": "7e072b15-85f5-4925-df92-ade9edd9e187"
      },
      "execution_count": 43,
      "outputs": [
        {
          "output_type": "stream",
          "name": "stdout",
          "text": [
            "Marjery lives at her home address of 1234 Mockingbird Lane\n"
          ]
        }
      ]
    },
    {
      "cell_type": "code",
      "source": [
        "def clothing_type(temp):\n",
        "    if temp > 65:\n",
        "        clothing = \"T-Shirt\"\n",
        "    elif temp > 50:\n",
        "        clothing = \"Sweatshirt\"\n",
        "    elif temp > 32:\n",
        "        clothing = \"Jacket\"\n",
        "    else:\n",
        "        clothing = \"Heavy Coat\"\n",
        "    return clothing\n",
        "\n",
        "\n",
        "print(clothing_type(72)) # Should print T-Shirt\n",
        "print(clothing_type(55)) # Should print Sweatshirt\n",
        "print(clothing_type(65)) # Should print Sweatshirt\n",
        "print(clothing_type(50)) # Should print Jacket\n",
        "print(clothing_type(45)) # Should print Jacket\n",
        "print(clothing_type(32)) # Should print Heavy Coat\n",
        "print(clothing_type(0)) # Should print Heavy Coat"
      ],
      "metadata": {
        "colab": {
          "base_uri": "https://localhost:8080/"
        },
        "id": "6i6xp3jqS3p_",
        "outputId": "7a3d148c-b6cb-4ebc-9637-747e58e1ab5c"
      },
      "execution_count": 44,
      "outputs": [
        {
          "output_type": "stream",
          "name": "stdout",
          "text": [
            "T-Shirt\n",
            "Sweatshirt\n",
            "Sweatshirt\n",
            "Jacket\n",
            "Jacket\n",
            "Heavy Coat\n",
            "Heavy Coat\n"
          ]
        }
      ]
    },
    {
      "cell_type": "code",
      "source": [
        "def letter_translator(letter):\n",
        "    if letter == \"a\":\n",
        "        letter_position = 1\n",
        "    elif letter == \"b\":\n",
        "        letter_position = 2\n",
        "    elif letter == \"c\":\n",
        "        letter_position = 3\n",
        "    elif letter == \"d\":\n",
        "        letter_position = 4\n",
        "    else:\n",
        "        letter_position = \"unknown\"\n",
        "    return letter_position\n",
        "\n",
        "\n",
        "print(letter_translator(\"a\")) # Should print 1\n",
        "print(letter_translator(\"b\")) # Should print 2\n",
        "print(letter_translator(\"c\")) # Should print 3\n",
        "print(letter_translator(\"d\")) # Should print 4\n",
        "print(letter_translator(\"e\")) # Should print unknown\n",
        "print(letter_translator(\"A\")) # Should print unknown\n",
        "print(letter_translator(\"\")) # Should print unknown"
      ],
      "metadata": {
        "colab": {
          "base_uri": "https://localhost:8080/"
        },
        "id": "flYBCJX-S3sP",
        "outputId": "967f5861-1eaf-4e37-93cf-b6c0f620030d"
      },
      "execution_count": 45,
      "outputs": [
        {
          "output_type": "stream",
          "name": "stdout",
          "text": [
            "1\n",
            "2\n",
            "3\n",
            "4\n",
            "unknown\n",
            "unknown\n",
            "unknown\n"
          ]
        }
      ]
    },
    {
      "cell_type": "markdown",
      "source": [
        "#Module 3"
      ],
      "metadata": {
        "id": "gJ3jgds8ZfOB"
      }
    },
    {
      "cell_type": "code",
      "source": [],
      "metadata": {
        "id": "1jCS9MgDZv8W"
      },
      "execution_count": null,
      "outputs": []
    }
  ]
}