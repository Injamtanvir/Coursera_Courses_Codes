{
  "nbformat": 4,
  "nbformat_minor": 0,
  "metadata": {
    "colab": {
      "provenance": [],
      "authorship_tag": "ABX9TyMzvPRvXjndEHnOhH8cJ/IM",
      "include_colab_link": true
    },
    "kernelspec": {
      "name": "python3",
      "display_name": "Python 3"
    },
    "language_info": {
      "name": "python"
    }
  },
  "cells": [
    {
      "cell_type": "markdown",
      "metadata": {
        "id": "view-in-github",
        "colab_type": "text"
      },
      "source": [
        "<a href=\"https://colab.research.google.com/github/Injamtanvir/Coursera_Courses_Codes/blob/main/Crash_Course_On_Python.ipynb\" target=\"_parent\"><img src=\"https://colab.research.google.com/assets/colab-badge.svg\" alt=\"Open In Colab\"/></a>"
      ]
    },
    {
      "cell_type": "markdown",
      "source": [
        "#Crash Course on Python"
      ],
      "metadata": {
        "id": "A-GcrjWEc0Hz"
      }
    },
    {
      "cell_type": "markdown",
      "source": [
        "#Module 1"
      ],
      "metadata": {
        "id": "elhITkeAoBGa"
      }
    },
    {
      "cell_type": "code",
      "source": [
        "friends = ['Taylor', 'Alex', 'Pat', 'Eli']\n",
        "for friend in friends:\n",
        "    print(\"Hi \" + friend)"
      ],
      "metadata": {
        "colab": {
          "base_uri": "https://localhost:8080/"
        },
        "id": "pHyisUMQc0Ve",
        "outputId": "96f0e327-adec-4aa3-fbc3-a84fe372548c"
      },
      "execution_count": null,
      "outputs": [
        {
          "output_type": "stream",
          "name": "stdout",
          "text": [
            "Hi Taylor\n",
            "Hi Alex\n",
            "Hi Pat\n",
            "Hi Eli\n"
          ]
        }
      ]
    },
    {
      "cell_type": "code",
      "source": [
        "for i in range(10):\n",
        "  print(\"Hello, World!\")"
      ],
      "metadata": {
        "colab": {
          "base_uri": "https://localhost:8080/"
        },
        "id": "SPhqn6gCc_iJ",
        "outputId": "9b02bbb5-3cfd-47d9-d282-3cd4682cfda2"
      },
      "execution_count": null,
      "outputs": [
        {
          "output_type": "stream",
          "name": "stdout",
          "text": [
            "Hello, World!\n",
            "Hello, World!\n",
            "Hello, World!\n",
            "Hello, World!\n",
            "Hello, World!\n",
            "Hello, World!\n",
            "Hello, World!\n",
            "Hello, World!\n",
            "Hello, World!\n",
            "Hello, World!\n"
          ]
        }
      ]
    },
    {
      "cell_type": "code",
      "source": [
        "print(\"I'm programming in Python!\")"
      ],
      "metadata": {
        "colab": {
          "base_uri": "https://localhost:8080/"
        },
        "id": "NKrxiqbYiSJg",
        "outputId": "921d9072-467c-4f27-c3ae-da60f3b0e020"
      },
      "execution_count": null,
      "outputs": [
        {
          "output_type": "stream",
          "name": "stdout",
          "text": [
            "I'm programming in Python!\n"
          ]
        }
      ]
    },
    {
      "cell_type": "code",
      "source": [
        "name = \"Alex\"\n",
        "print(\"Hello \" + name)"
      ],
      "metadata": {
        "colab": {
          "base_uri": "https://localhost:8080/"
        },
        "id": "PPBpi2LUmxKM",
        "outputId": "43a9680e-9814-42d6-c480-2bd575a09203"
      },
      "execution_count": null,
      "outputs": [
        {
          "output_type": "stream",
          "name": "stdout",
          "text": [
            "Hello Alex\n"
          ]
        }
      ]
    },
    {
      "cell_type": "code",
      "source": [
        "name = \"Robert\"\n",
        "print(\"Hello \" + name)"
      ],
      "metadata": {
        "colab": {
          "base_uri": "https://localhost:8080/"
        },
        "id": "zNQbSXNAnxzK",
        "outputId": "83e5ffb4-1e09-42e2-f6d9-064f24aebd32"
      },
      "execution_count": null,
      "outputs": [
        {
          "output_type": "stream",
          "name": "stdout",
          "text": [
            "Hello Robert\n"
          ]
        }
      ]
    },
    {
      "cell_type": "code",
      "source": [
        "print(4+5)"
      ],
      "metadata": {
        "colab": {
          "base_uri": "https://localhost:8080/"
        },
        "id": "sAePH8cJpLY7",
        "outputId": "122620e4-135c-4bbb-a66c-c9edbf298d32"
      },
      "execution_count": null,
      "outputs": [
        {
          "output_type": "stream",
          "name": "stdout",
          "text": [
            "9\n"
          ]
        }
      ]
    },
    {
      "cell_type": "code",
      "source": [
        "print(9*7)"
      ],
      "metadata": {
        "colab": {
          "base_uri": "https://localhost:8080/"
        },
        "id": "CgX37YMcpLbz",
        "outputId": "09f5fe71-8441-4798-ddd4-8a3c6f913770"
      },
      "execution_count": null,
      "outputs": [
        {
          "output_type": "stream",
          "name": "stdout",
          "text": [
            "63\n"
          ]
        }
      ]
    },
    {
      "cell_type": "code",
      "source": [
        "print(-1/4)"
      ],
      "metadata": {
        "colab": {
          "base_uri": "https://localhost:8080/"
        },
        "id": "ffRwg0NqpLeq",
        "outputId": "f8d070d8-fa01-433e-8add-20baafa97a6b"
      },
      "execution_count": null,
      "outputs": [
        {
          "output_type": "stream",
          "name": "stdout",
          "text": [
            "-0.25\n"
          ]
        }
      ]
    },
    {
      "cell_type": "code",
      "source": [
        "print(1/3)"
      ],
      "metadata": {
        "colab": {
          "base_uri": "https://localhost:8080/"
        },
        "id": "3cdRynqNpLo8",
        "outputId": "3ecf8ca6-6004-4e3a-e784-b5d94019c5c5"
      },
      "execution_count": null,
      "outputs": [
        {
          "output_type": "stream",
          "name": "stdout",
          "text": [
            "0.3333333333333333\n"
          ]
        }
      ]
    },
    {
      "cell_type": "code",
      "source": [
        "#For Commenting we used # operator as comment"
      ],
      "metadata": {
        "id": "7FaujrCNpue4"
      },
      "execution_count": null,
      "outputs": []
    },
    {
      "cell_type": "code",
      "source": [
        "print(((2050/5)-32)/9)"
      ],
      "metadata": {
        "colab": {
          "base_uri": "https://localhost:8080/"
        },
        "id": "fSp6Aq1YpYE6",
        "outputId": "7e284f75-ec42-47d1-aeba-c35282423904"
      },
      "execution_count": null,
      "outputs": [
        {
          "output_type": "stream",
          "name": "stdout",
          "text": [
            "42.0\n"
          ]
        }
      ]
    },
    {
      "cell_type": "code",
      "source": [
        "print(2**10)  #In python, for power we used ** operator"
      ],
      "metadata": {
        "colab": {
          "base_uri": "https://localhost:8080/"
        },
        "id": "8DZV-fhEpYJJ",
        "outputId": "03d03820-580a-4c29-87c3-5ecc74c47a01"
      },
      "execution_count": null,
      "outputs": [
        {
          "output_type": "stream",
          "name": "stdout",
          "text": [
            "1024\n"
          ]
        }
      ]
    },
    {
      "cell_type": "code",
      "source": [
        "print(((1+2)*3)/4)"
      ],
      "metadata": {
        "colab": {
          "base_uri": "https://localhost:8080/"
        },
        "id": "3MohI_v0nx2-",
        "outputId": "203025e5-e1c7-4ff2-bec2-f8142190a0d3"
      },
      "execution_count": null,
      "outputs": [
        {
          "output_type": "stream",
          "name": "stdout",
          "text": [
            "2.25\n"
          ]
        }
      ]
    },
    {
      "cell_type": "code",
      "source": [
        "print(\"Programming in Python is fun!\")"
      ],
      "metadata": {
        "colab": {
          "base_uri": "https://localhost:8080/"
        },
        "id": "5UAMtCNMs7io",
        "outputId": "be90bf62-a024-4f94-e8c8-5fdca030ac32"
      },
      "execution_count": null,
      "outputs": [
        {
          "output_type": "stream",
          "name": "stdout",
          "text": [
            "Programming in Python is fun!\n"
          ]
        }
      ]
    },
    {
      "cell_type": "code",
      "source": [
        "ratio = ((1+5**(1/2))/2)\n",
        "print(ratio)"
      ],
      "metadata": {
        "colab": {
          "base_uri": "https://localhost:8080/"
        },
        "id": "TkiSTGMUs7sU",
        "outputId": "0632a7a3-4510-4180-f958-ccd4e2d3cb34"
      },
      "execution_count": null,
      "outputs": [
        {
          "output_type": "stream",
          "name": "stdout",
          "text": [
            "1.618033988749895\n"
          ]
        }
      ]
    },
    {
      "cell_type": "code",
      "source": [
        "# Syntax for printing a string of text\n",
        "print(\"I love Python!\")\n",
        "\n",
        "\n",
        "# Syntax for printing numeric values\n",
        "print(360)\n",
        "print(32*45)\n",
        "\n",
        "\n",
        "# Syntax for printing the value of a variable\n",
        "value = 8*6\n",
        "print(value)\n"
      ],
      "metadata": {
        "colab": {
          "base_uri": "https://localhost:8080/"
        },
        "id": "KNAsrg5mvZ5k",
        "outputId": "c15d5cbc-b7db-48a4-ab3c-4bb1a74fe98d"
      },
      "execution_count": null,
      "outputs": [
        {
          "output_type": "stream",
          "name": "stdout",
          "text": [
            "I love Python!\n",
            "360\n",
            "1440\n",
            "48\n"
          ]
        }
      ]
    },
    {
      "cell_type": "code",
      "source": [
        "# Multiplication, division, addition, and subtraction\n",
        "print(3*8/2+5-1)\n",
        "\n",
        "# Exponents\n",
        "print(4**6) # Syntax means 4 to the power of 6\n",
        "print(4**2) # To square a number\n",
        "print(4**3) # To cube a number\n",
        "print(4**0.5) # To find the square root of a number\n",
        "\n",
        "# To calculate how many different possible combinations can be\n",
        "# formed using a set of \"x\" characters with each character in \"x\"\n",
        "# having \"y\" number of possible values, you will need to use an\n",
        "# exponent for the calculation:\n",
        "x = 4\n",
        "y = 26\n",
        "print(y**x)\n"
      ],
      "metadata": {
        "colab": {
          "base_uri": "https://localhost:8080/"
        },
        "id": "du1stzs7vZ8y",
        "outputId": "06f8e668-a9ae-4b5c-ae3a-7b7dd23c2b43"
      },
      "execution_count": null,
      "outputs": [
        {
          "output_type": "stream",
          "name": "stdout",
          "text": [
            "16.0\n",
            "4096\n",
            "16\n",
            "64\n",
            "2.0\n",
            "456976\n"
          ]
        }
      ]
    },
    {
      "cell_type": "code",
      "source": [
        "# Assignment of values to the variables:\n",
        "years = 10\n",
        "weeks_in_a_year = 52\n",
        "# This variable is assigned an arithmetic calculation:\n",
        "weeks_in_a_decade = years * weeks_in_a_year\n",
        "# Prints the calculation stored in the \"weeks_in_a_decade\" variable:\n",
        "print(weeks_in_a_decade)"
      ],
      "metadata": {
        "colab": {
          "base_uri": "https://localhost:8080/"
        },
        "id": "7xlJ5ocIviMu",
        "outputId": "d40dbf5d-c361-4e07-ab1e-5d05e8494865"
      },
      "execution_count": null,
      "outputs": [
        {
          "output_type": "stream",
          "name": "stdout",
          "text": [
            "520\n"
          ]
        }
      ]
    },
    {
      "cell_type": "code",
      "source": [
        "print(\"Automating with Python is fun!\")"
      ],
      "metadata": {
        "colab": {
          "base_uri": "https://localhost:8080/"
        },
        "id": "2pFUfaJSx1Nw",
        "outputId": "73ea764f-dcb2-4856-ec13-cc94a94633dd"
      },
      "execution_count": null,
      "outputs": [
        {
          "output_type": "stream",
          "name": "stdout",
          "text": [
            "Automating with Python is fun!\n"
          ]
        }
      ]
    },
    {
      "cell_type": "code",
      "source": [
        "print(2+2/((2+2)+(2**2)))"
      ],
      "metadata": {
        "colab": {
          "base_uri": "https://localhost:8080/"
        },
        "id": "-fL-dFxJx3FR",
        "outputId": "ebd977aa-5cb4-4d64-c599-b9a25619b304"
      },
      "execution_count": null,
      "outputs": [
        {
          "output_type": "stream",
          "name": "stdout",
          "text": [
            "2.25\n"
          ]
        }
      ]
    },
    {
      "cell_type": "code",
      "source": [
        "print(12/(1+2)+2**2)"
      ],
      "metadata": {
        "colab": {
          "base_uri": "https://localhost:8080/"
        },
        "id": "SkB8X74N1lLk",
        "outputId": "57697413-b76a-49c3-ff5c-02dcb225d26e"
      },
      "execution_count": null,
      "outputs": [
        {
          "output_type": "stream",
          "name": "stdout",
          "text": [
            "8.0\n"
          ]
        }
      ]
    },
    {
      "cell_type": "code",
      "source": [
        "'''Assuming there are 60 minutes in an hour, write a program that calculates the number of minutes in a 24 hour day. Print the result on the screen. Note: Your result should be in the format of just a number, not a sentence.'''\n",
        "# Enter code here:\n",
        "print(24 * 60)\n",
        "\n",
        "# Should print 1440"
      ],
      "metadata": {
        "colab": {
          "base_uri": "https://localhost:8080/"
        },
        "id": "ULmksDAx11Wn",
        "outputId": "69c9c18c-d70f-4554-c605-328a6f8dc172"
      },
      "execution_count": null,
      "outputs": [
        {
          "output_type": "stream",
          "name": "stdout",
          "text": [
            "1440\n"
          ]
        }
      ]
    },
    {
      "cell_type": "code",
      "source": [
        "'''\n",
        "Keeping in mind there are 60 seconds per minute , write a program that calculates how many seconds there are in an hour .Print the result to the screen. Note: Your result should be in the format of just a number, not a sentence.\n",
        "'''\n",
        "# Enter code here:\n",
        "\n",
        "print(60*60)\n",
        "\n",
        "# Should print 3600"
      ],
      "metadata": {
        "colab": {
          "base_uri": "https://localhost:8080/"
        },
        "id": "t4d-6wxix3Ip",
        "outputId": "b5825dde-abd5-4a8b-eaf0-024269dfe532"
      },
      "execution_count": null,
      "outputs": [
        {
          "output_type": "stream",
          "name": "stdout",
          "text": [
            "3600\n"
          ]
        }
      ]
    },
    {
      "cell_type": "code",
      "source": [
        "'''Use Python to calculate how many different passwords can be formed with 6 lower case English letters (excludes any character not found in the English alphabet).  For a 1 letter password, there would be 26 possibilities; one for every letter of the English alphabet.  For a 2 letter password, each letter is independent of the other, so there would be 26 times 26 possibilities. Using this information, print the amount of possible passwords that can be formed with 3 letters.'''\n",
        "\n",
        "# Enter code here:\n",
        "print(26**3)\n",
        "# Should print 17576\n"
      ],
      "metadata": {
        "colab": {
          "base_uri": "https://localhost:8080/"
        },
        "id": "EmhbS396x3L0",
        "outputId": "019048b9-f6bb-40bb-d4c5-ffbf88e89641"
      },
      "execution_count": null,
      "outputs": [
        {
          "output_type": "stream",
          "name": "stdout",
          "text": [
            "17576\n"
          ]
        }
      ]
    },
    {
      "cell_type": "code",
      "source": [
        "'''Use the Python print function to calculate how many number-based passcodes can be formed with 10 numerals (0 through 9).  Here’s a hint to help you: When each digit of a passcode is independent of the others, the total number of combinations is simply the number of possibilities for each digit raised to the power of the length of the passcode. So, for a 1-numeral passcode, there would be 10 possibilities; one for every numeral from 0 to 9.  For a 2-numeral passcode, each numeral is independent of the other, so there would be 10 times 10 possibilities. Using this information, print the amount of possible passwords that can be formed with 3 numerals. Note:Your result should be in the number format, not a sentence.'''\n",
        "# Should print 1000\n",
        "print(10**3)"
      ],
      "metadata": {
        "colab": {
          "base_uri": "https://localhost:8080/"
        },
        "id": "atv3E0xJ4Axb",
        "outputId": "4bf1a7dd-5cbe-4f23-e2f7-2986d191110b"
      },
      "execution_count": null,
      "outputs": [
        {
          "output_type": "stream",
          "name": "stdout",
          "text": [
            "1000\n"
          ]
        }
      ]
    },
    {
      "cell_type": "code",
      "source": [
        "'''Consider this scenario about using Python to make calculations:\n",
        "\n",
        "In a managed computing environment, there are 200 remote computers that must download 200 MB (megabytes) of updates each month. There are 1024 KB (kilobytes) in each MB.\n",
        "\n",
        "Fill in the blank in the code below to compute the number of total kilobytes downloaded by all computers from the remote update server each month. Multiply the total number of computers by the download size in KB to calculate. '''\n",
        "\n",
        "download_size_kb = 200*1024\n",
        "total_computers = 200\n",
        "total_kbs = total_computers * download_size_kb\n",
        "\n",
        "print(total_kbs) # Should print 40960000.0"
      ],
      "metadata": {
        "colab": {
          "base_uri": "https://localhost:8080/"
        },
        "id": "TyslLZLS0SHW",
        "outputId": "d91da376-4313-4af3-cc19-a18d8967d72a"
      },
      "execution_count": null,
      "outputs": [
        {
          "output_type": "stream",
          "name": "stdout",
          "text": [
            "40960000\n"
          ]
        }
      ]
    },
    {
      "cell_type": "markdown",
      "source": [
        "#Module 2"
      ],
      "metadata": {
        "id": "otcNpfpawCpJ"
      }
    },
    {
      "cell_type": "code",
      "source": [
        "#Data Types"
      ],
      "metadata": {
        "id": "gnkm9nVfx2fZ"
      },
      "execution_count": 8,
      "outputs": []
    },
    {
      "cell_type": "code",
      "source": [
        "print(7+8)"
      ],
      "metadata": {
        "id": "uegsoZEewQMi",
        "colab": {
          "base_uri": "https://localhost:8080/"
        },
        "outputId": "ac4ed8b1-5cc9-4146-8d37-4c80990bb1ff"
      },
      "execution_count": 1,
      "outputs": [
        {
          "output_type": "stream",
          "name": "stdout",
          "text": [
            "15\n"
          ]
        }
      ]
    },
    {
      "cell_type": "code",
      "source": [
        "print(\"Hello \"+ \"World\")"
      ],
      "metadata": {
        "colab": {
          "base_uri": "https://localhost:8080/"
        },
        "id": "n5-av5Ay7C1N",
        "outputId": "b28078b2-8e8a-4652-f4c4-594eae687e8d"
      },
      "execution_count": 2,
      "outputs": [
        {
          "output_type": "stream",
          "name": "stdout",
          "text": [
            "Hello World\n"
          ]
        }
      ]
    },
    {
      "cell_type": "code",
      "source": [
        "print(7 + \"8\") #will get an error"
      ],
      "metadata": {
        "colab": {
          "base_uri": "https://localhost:8080/",
          "height": 175
        },
        "id": "n-Dg-0TQ7HgO",
        "outputId": "cf5c5e08-1da5-4060-b253-3b110308b1f7"
      },
      "execution_count": 4,
      "outputs": [
        {
          "output_type": "error",
          "ename": "TypeError",
          "evalue": "ignored",
          "traceback": [
            "\u001b[0;31m---------------------------------------------------------------------------\u001b[0m",
            "\u001b[0;31mTypeError\u001b[0m                                 Traceback (most recent call last)",
            "\u001b[0;32m<ipython-input-4-597c27871439>\u001b[0m in \u001b[0;36m<cell line: 1>\u001b[0;34m()\u001b[0m\n\u001b[0;32m----> 1\u001b[0;31m \u001b[0mprint\u001b[0m\u001b[0;34m(\u001b[0m\u001b[0;36m7\u001b[0m \u001b[0;34m+\u001b[0m \u001b[0;34m\"8\"\u001b[0m\u001b[0;34m)\u001b[0m \u001b[0;31m#will get an error\u001b[0m\u001b[0;34m\u001b[0m\u001b[0;34m\u001b[0m\u001b[0m\n\u001b[0m",
            "\u001b[0;31mTypeError\u001b[0m: unsupported operand type(s) for +: 'int' and 'str'"
          ]
        }
      ]
    },
    {
      "cell_type": "code",
      "source": [
        "print(type(\"a\"))"
      ],
      "metadata": {
        "colab": {
          "base_uri": "https://localhost:8080/"
        },
        "id": "Vze25PmT7P4J",
        "outputId": "beaa4890-31b4-453f-b796-0a28ecc2b28b"
      },
      "execution_count": 5,
      "outputs": [
        {
          "output_type": "stream",
          "name": "stdout",
          "text": [
            "<class 'str'>\n"
          ]
        }
      ]
    },
    {
      "cell_type": "code",
      "source": [
        "print(type(2))"
      ],
      "metadata": {
        "colab": {
          "base_uri": "https://localhost:8080/"
        },
        "id": "aQjZwP7K8DNd",
        "outputId": "d88a65e0-a3e9-4d2e-8c1d-d0c68c1023d0"
      },
      "execution_count": 6,
      "outputs": [
        {
          "output_type": "stream",
          "name": "stdout",
          "text": [
            "<class 'int'>\n"
          ]
        }
      ]
    },
    {
      "cell_type": "code",
      "source": [
        "print(type(2.5))"
      ],
      "metadata": {
        "colab": {
          "base_uri": "https://localhost:8080/"
        },
        "id": "7s5zcC7O8Gdg",
        "outputId": "01eb2ef2-afe4-440a-f485-1accb026fdc5"
      },
      "execution_count": 7,
      "outputs": [
        {
          "output_type": "stream",
          "name": "stdout",
          "text": [
            "<class 'float'>\n"
          ]
        }
      ]
    },
    {
      "cell_type": "code",
      "source": [
        "length = 10\n",
        "width = 2\n",
        "area = length * width\n",
        "print(area)"
      ],
      "metadata": {
        "colab": {
          "base_uri": "https://localhost:8080/"
        },
        "id": "5j79biPu8IxS",
        "outputId": "62060a5c-9286-4466-b84d-abc44a813f2e"
      },
      "execution_count": 10,
      "outputs": [
        {
          "output_type": "stream",
          "name": "stdout",
          "text": [
            "20\n"
          ]
        }
      ]
    },
    {
      "cell_type": "code",
      "source": [
        "base = 5\n",
        "height = 3\n",
        "area = (base*height) / 2  #The area of a Triangle\n",
        "print(area)"
      ],
      "metadata": {
        "colab": {
          "base_uri": "https://localhost:8080/"
        },
        "id": "OvNDNN0X9haE",
        "outputId": "9c6d11a9-f22b-40c6-ec8f-168ede1cfffd"
      },
      "execution_count": 12,
      "outputs": [
        {
          "output_type": "stream",
          "name": "stdout",
          "text": [
            "7.5\n"
          ]
        }
      ]
    },
    {
      "cell_type": "code",
      "source": [
        "#Implicit conversion\n",
        "print(7 + 8.5) # convert integer 7 into float , we called it Implicit Conversion: The interpreter automatically converts one data type into another"
      ],
      "metadata": {
        "colab": {
          "base_uri": "https://localhost:8080/"
        },
        "id": "ww5c_Eir_e8W",
        "outputId": "af900903-80a1-4775-9312-68b18b067ad7"
      },
      "execution_count": 14,
      "outputs": [
        {
          "output_type": "stream",
          "name": "stdout",
          "text": [
            "15.5\n"
          ]
        }
      ]
    },
    {
      "cell_type": "code",
      "source": [
        "print(\"a\"+\"b\"+\"c\")"
      ],
      "metadata": {
        "colab": {
          "base_uri": "https://localhost:8080/"
        },
        "id": "dQQxXd2iBDtF",
        "outputId": "468a0e6a-95e9-4ea9-bafd-388cc2795529"
      },
      "execution_count": 15,
      "outputs": [
        {
          "output_type": "stream",
          "name": "stdout",
          "text": [
            "abc\n"
          ]
        }
      ]
    },
    {
      "cell_type": "code",
      "source": [
        "print(\"This \"+ \"is \"+\"Pretty \"+\"neat!\")"
      ],
      "metadata": {
        "colab": {
          "base_uri": "https://localhost:8080/"
        },
        "id": "x-pGl3NKBlDx",
        "outputId": "415e4164-509e-4738-b6ff-cfcfe8344738"
      },
      "execution_count": 16,
      "outputs": [
        {
          "output_type": "stream",
          "name": "stdout",
          "text": [
            "This is Pretty neat!\n"
          ]
        }
      ]
    },
    {
      "cell_type": "code",
      "source": [
        "base = 5\n",
        "height = 3\n",
        "area = (base*height) / 2  #The area of a Triangle\n",
        "print(\"The area of the triangle is: \"+ str(area)) #Explicit conversion"
      ],
      "metadata": {
        "colab": {
          "base_uri": "https://localhost:8080/"
        },
        "id": "Hqul1R_TBuK-",
        "outputId": "86eeadaa-9fee-4761-c368-04a5855da1c7"
      },
      "execution_count": 17,
      "outputs": [
        {
          "output_type": "stream",
          "name": "stdout",
          "text": [
            "The area of the triangle is: 7.5\n"
          ]
        }
      ]
    },
    {
      "cell_type": "code",
      "source": [
        "total = 2048 + 4357 + 97658 + 125 + 8\n",
        "files = 5\n",
        "average = total / files\n",
        "print(\"The average size is: \"+ str(average))"
      ],
      "metadata": {
        "colab": {
          "base_uri": "https://localhost:8080/"
        },
        "id": "Wp-lfFJaCH0L",
        "outputId": "81d00a4e-17ac-4876-f747-814d1db299c4"
      },
      "execution_count": 18,
      "outputs": [
        {
          "output_type": "stream",
          "name": "stdout",
          "text": [
            "The average size is: 20839.2\n"
          ]
        }
      ]
    },
    {
      "cell_type": "code",
      "source": [
        "# The following lines assign the variable to the left of the =\n",
        "# assignment operator with the values and arithmetic expressions\n",
        "# on the right side of the = assignment operator.\n",
        "hotel_room = 100\n",
        "tax = hotel_room * 0.08\n",
        "total = hotel_room + tax\n",
        "room_guests = 4\n",
        "share_per_person = total/room_guests\n",
        "\n",
        "# This line outputs the result of the final calculation stored\n",
        "# in the variable \"share_per_person\"\n",
        "print(\"Each person needs to pay: \" + str(share_per_person)) # change a data type"
      ],
      "metadata": {
        "colab": {
          "base_uri": "https://localhost:8080/"
        },
        "id": "0eJgXAWaCH3i",
        "outputId": "53a11946-59ef-43b0-9313-0c2a46092bb6"
      },
      "execution_count": 19,
      "outputs": [
        {
          "output_type": "stream",
          "name": "stdout",
          "text": [
            "Each person needs to pay: 27.0\n"
          ]
        }
      ]
    },
    {
      "cell_type": "code",
      "source": [
        "# The following 5 lines assign strings to a list of variables.\n",
        "salutation = \"Dr.\"\n",
        "first_name = \"Prisha\"\n",
        "middle_name = \"Jai\"\n",
        "last_name = \"Agarwal\"\n",
        "suffix = \"Ph.D.\"\n",
        "\n",
        "print(salutation + \" \" + first_name + \" \" + middle_name + \" \" + last_name + \", \" + suffix)\n",
        "# The comma as a string \", \" adds the conventional use of a comma plus a\n",
        "# space to separate the last name from the suffix.\n",
        "\n",
        "# Alternatively, you could use commas in place of the + connector:\n",
        "print(salutation, first_name, middle_name, last_name,\",\", suffix)\n",
        "# However, you will find that this produces a space before a comma within a string."
      ],
      "metadata": {
        "colab": {
          "base_uri": "https://localhost:8080/"
        },
        "id": "SV5VMhUVCH6P",
        "outputId": "84d27069-b012-40b3-b306-893254e46084"
      },
      "execution_count": 20,
      "outputs": [
        {
          "output_type": "stream",
          "name": "stdout",
          "text": [
            "Dr. Prisha Jai Agarwal, Ph.D.\n",
            "Dr. Prisha Jai Agarwal , Ph.D.\n"
          ]
        }
      ]
    },
    {
      "cell_type": "code",
      "source": [
        "#print(\"5 * 3 = \" + (5*3))\n",
        "\n",
        "# Resolution:\n",
        "print(\"5 * 3 = \" + str(5*3))\n",
        "#\n",
        "# To avoid a type error between the string and the integer within the\n",
        "# print() function, you can make an explicit data type conversion by\n",
        "# using the str() function to convert the integer to a string."
      ],
      "metadata": {
        "colab": {
          "base_uri": "https://localhost:8080/"
        },
        "id": "tKtlyoMpCH9E",
        "outputId": "1be4da78-4876-4bd9-920e-d3e0e56f0e17"
      },
      "execution_count": 21,
      "outputs": [
        {
          "output_type": "stream",
          "name": "stdout",
          "text": [
            "5 * 3 = 15\n"
          ]
        }
      ]
    },
    {
      "cell_type": "code",
      "source": [
        "numerator = 7\n",
        "denominator = 0   # Possible resolution: Change the denominator value\n",
        "result = numerator / denominator\n",
        "print(result)\n",
        "\n",
        "# One possible assumption for a number divided by zero error might\n",
        "# include the issue of a null value as a denominator (could happen when\n",
        "# using a loop to iterate over values in a database). In such cases, the\n",
        "# desired outcome may be to leave the numerator value intact. The\n",
        "# numerator value can be preserved by reassigning the denominator with\n",
        "# the integer value of 1. The result would then equal the numerator."
      ],
      "metadata": {
        "colab": {
          "base_uri": "https://localhost:8080/",
          "height": 245
        },
        "id": "9V-bkeleCH_1",
        "outputId": "21d666ee-7362-4d2e-b143-6013e9ce9af3"
      },
      "execution_count": 22,
      "outputs": [
        {
          "output_type": "error",
          "ename": "ZeroDivisionError",
          "evalue": "ignored",
          "traceback": [
            "\u001b[0;31m---------------------------------------------------------------------------\u001b[0m",
            "\u001b[0;31mZeroDivisionError\u001b[0m                         Traceback (most recent call last)",
            "\u001b[0;32m<ipython-input-22-efa7f3840acb>\u001b[0m in \u001b[0;36m<cell line: 3>\u001b[0;34m()\u001b[0m\n\u001b[1;32m      1\u001b[0m \u001b[0mnumerator\u001b[0m \u001b[0;34m=\u001b[0m \u001b[0;36m7\u001b[0m\u001b[0;34m\u001b[0m\u001b[0;34m\u001b[0m\u001b[0m\n\u001b[1;32m      2\u001b[0m \u001b[0mdenominator\u001b[0m \u001b[0;34m=\u001b[0m \u001b[0;36m0\u001b[0m   \u001b[0;31m# Possible resolution: Change the denominator value\u001b[0m\u001b[0;34m\u001b[0m\u001b[0;34m\u001b[0m\u001b[0m\n\u001b[0;32m----> 3\u001b[0;31m \u001b[0mresult\u001b[0m \u001b[0;34m=\u001b[0m \u001b[0mnumerator\u001b[0m \u001b[0;34m/\u001b[0m \u001b[0mdenominator\u001b[0m\u001b[0;34m\u001b[0m\u001b[0;34m\u001b[0m\u001b[0m\n\u001b[0m\u001b[1;32m      4\u001b[0m \u001b[0mprint\u001b[0m\u001b[0;34m(\u001b[0m\u001b[0mresult\u001b[0m\u001b[0;34m)\u001b[0m\u001b[0;34m\u001b[0m\u001b[0;34m\u001b[0m\u001b[0m\n\u001b[1;32m      5\u001b[0m \u001b[0;34m\u001b[0m\u001b[0m\n",
            "\u001b[0;31mZeroDivisionError\u001b[0m: division by zero"
          ]
        }
      ]
    },
    {
      "cell_type": "code",
      "source": [
        "print(\"2 + 2 = \" + str(2 + 2))"
      ],
      "metadata": {
        "colab": {
          "base_uri": "https://localhost:8080/"
        },
        "id": "prduFaMjCIC3",
        "outputId": "ffcb9c1c-d76a-4cd4-fc10-fd39045c0634"
      },
      "execution_count": 23,
      "outputs": [
        {
          "output_type": "stream",
          "name": "stdout",
          "text": [
            "2 + 2 = 4\n"
          ]
        }
      ]
    },
    {
      "cell_type": "code",
      "source": [
        "bill = 47.28 # Assign \"bill\" variable with bill amount\n",
        "tip = bill * (15/100) # Multiply by stated tip rate\n",
        "total = bill + tip # Sum the \"total\" of the \"bill\" and \"tip\"\n",
        "share = total / 2 # Divide \"total\" by number of friends dining\n",
        "print(\"Each person needs to pay: \" + str(share)) # Enter the required string and \"share\"\n",
        "# Hint: Remember to convert incompatible data types"
      ],
      "metadata": {
        "colab": {
          "base_uri": "https://localhost:8080/"
        },
        "id": "nQq9Jx5vFxoN",
        "outputId": "d5c24f1d-dd50-4675-c75a-e4e745fb6540"
      },
      "execution_count": 25,
      "outputs": [
        {
          "output_type": "stream",
          "name": "stdout",
          "text": [
            "Each person needs to pay: 27.186\n"
          ]
        }
      ]
    },
    {
      "cell_type": "code",
      "source": [
        "numerator = 10\n",
        "denominator = 10\n",
        "result = numerator / denominator\n",
        "print(int(result))"
      ],
      "metadata": {
        "colab": {
          "base_uri": "https://localhost:8080/"
        },
        "id": "gNuNDsjYFxrg",
        "outputId": "55b7a796-8751-4c02-be9e-133e663ea9d0"
      },
      "execution_count": 26,
      "outputs": [
        {
          "output_type": "stream",
          "name": "stdout",
          "text": [
            "1\n"
          ]
        }
      ]
    },
    {
      "cell_type": "code",
      "source": [
        "word1 = \"How\"\n",
        "word2 = \"do\"\n",
        "word3 = \"you\"\n",
        "word4 = \"like\"\n",
        "word5 = \"Python\"\n",
        "word6 = \"so\"\n",
        "word7 = \"far?\"\n",
        "\n",
        "print(word1+\" \"+word2+\" \"+word3+\" \"+word4+\" \"+word5+\" \"+word6+\" \"+word7)"
      ],
      "metadata": {
        "colab": {
          "base_uri": "https://localhost:8080/"
        },
        "id": "obrJwoXbFxuT",
        "outputId": "23ae545b-16bd-4d04-bf33-4c72f86a400c"
      },
      "execution_count": 28,
      "outputs": [
        {
          "output_type": "stream",
          "name": "stdout",
          "text": [
            "How do you like Python so far?\n"
          ]
        }
      ]
    },
    {
      "cell_type": "code",
      "source": [
        "#Functions"
      ],
      "metadata": {
        "id": "PgZrFZ2vFxxE"
      },
      "execution_count": 29,
      "outputs": []
    },
    {
      "cell_type": "code",
      "source": [
        "def greeting(name):\n",
        "  print(\"Welcome, \"+ name)\n",
        "greeting(\"Kay\")\n",
        "greeting(\"Roha\")"
      ],
      "metadata": {
        "colab": {
          "base_uri": "https://localhost:8080/"
        },
        "id": "j5TkEQlHQRrN",
        "outputId": "7443c669-9a17-4ac2-8ce1-4d00a2384b64"
      },
      "execution_count": 31,
      "outputs": [
        {
          "output_type": "stream",
          "name": "stdout",
          "text": [
            "Welcome, Kay\n",
            "Welcome, Roha\n"
          ]
        }
      ]
    },
    {
      "cell_type": "code",
      "source": [
        "def greeting(name, department):\n",
        "  print(\"Welcome, \"+ name)\n",
        "  print(\"You are part of \"+ department)\n",
        "greeting(\"Kay\", \"IT Support\")\n",
        "greeting(\"Roha\", \"Management\")"
      ],
      "metadata": {
        "colab": {
          "base_uri": "https://localhost:8080/"
        },
        "id": "_RQHMn97Qcv6",
        "outputId": "334ab16a-333a-4444-aaa6-f5d878cd2c75"
      },
      "execution_count": 32,
      "outputs": [
        {
          "output_type": "stream",
          "name": "stdout",
          "text": [
            "Welcome, Kay\n",
            "You are part of IT Support\n",
            "Welcome, Roha\n",
            "You are part of Management\n"
          ]
        }
      ]
    },
    {
      "cell_type": "code",
      "source": [
        "def area_triangle(base, height):\n",
        "  return base*height/2\n",
        "\n",
        "area_a = area_triangle(5, 4)\n",
        "area_b = area_triangle(7, 3)\n",
        "\n",
        "sum = area_a + area_b\n",
        "print(\"The sum of both area is: \"+ str(sum))\n"
      ],
      "metadata": {
        "colab": {
          "base_uri": "https://localhost:8080/"
        },
        "id": "JtYv6gM7RTrf",
        "outputId": "04fd631c-44c4-4390-f684-6f1be3b68ec7"
      },
      "execution_count": 33,
      "outputs": [
        {
          "output_type": "stream",
          "name": "stdout",
          "text": [
            "The sum of both area is: 20.5\n"
          ]
        }
      ]
    },
    {
      "cell_type": "code",
      "source": [
        "def convert_seconds(seconds):\n",
        "  hours = seconds // 3600\n",
        "  minutes = (seconds - hours *3600) // 60\n",
        "  remaining_seconds = seconds - hours * 3600 - minutes * 60\n",
        "  return hours, minutes, remaining_seconds\n",
        "\n",
        "hours, minutes, seconds = convert_seconds(5000)\n",
        "print(hours, minutes, seconds)"
      ],
      "metadata": {
        "colab": {
          "base_uri": "https://localhost:8080/"
        },
        "id": "lxe-EJaTRTuY",
        "outputId": "cc4233c8-eb4e-47d3-f1dd-ec67111f38a4"
      },
      "execution_count": 34,
      "outputs": [
        {
          "output_type": "stream",
          "name": "stdout",
          "text": [
            "1 23 20\n"
          ]
        }
      ]
    },
    {
      "cell_type": "code",
      "source": [
        "def greeting(name):\n",
        "  print(\"Welcome, \"+ name)\n",
        "result = greeting(\"Kay\")\n",
        "print(result)"
      ],
      "metadata": {
        "colab": {
          "base_uri": "https://localhost:8080/"
        },
        "id": "L2JA2NvcRTxE",
        "outputId": "d0a6ce12-b898-4bb6-a3f5-96fefb15e4fc"
      },
      "execution_count": 35,
      "outputs": [
        {
          "output_type": "stream",
          "name": "stdout",
          "text": [
            "Welcome, Kay\n",
            "None\n"
          ]
        }
      ]
    },
    {
      "cell_type": "code",
      "source": [
        "name = \"Kay\"\n",
        "number = len(name) * 9\n",
        "\n",
        "print(\"Hello \"+ name + \". Your lucky number is \"+ str(number))\n",
        "\n",
        "name = \"Katherine\"\n",
        "number = len(name) * 9\n",
        "\n",
        "print(\"Hello \"+ name + \". Your lucky number is \"+ str(number))"
      ],
      "metadata": {
        "colab": {
          "base_uri": "https://localhost:8080/"
        },
        "id": "mNPuu3fwRTzw",
        "outputId": "e15f294f-6e84-4bf1-8438-7ff9aed1758c"
      },
      "execution_count": 36,
      "outputs": [
        {
          "output_type": "stream",
          "name": "stdout",
          "text": [
            "Hello Kay. Your lucky number is 27\n",
            "Hello Katherine. Your lucky number is 81\n"
          ]
        }
      ]
    },
    {
      "cell_type": "code",
      "source": [
        "def lucky_number(name):\n",
        "  number = len(name) * 9\n",
        "  print(\"Hello \"+ name + \". Your lucky number is \"+ str(number))\n",
        "\n",
        "lucky_number(\"Roha\")\n",
        "lucky_number(\"Cameron\")\n"
      ],
      "metadata": {
        "colab": {
          "base_uri": "https://localhost:8080/"
        },
        "id": "BH1vL4x6RT2Y",
        "outputId": "4b4dc09c-955b-470f-9a22-291c9640b95e"
      },
      "execution_count": 37,
      "outputs": [
        {
          "output_type": "stream",
          "name": "stdout",
          "text": [
            "Hello Roha. Your lucky number is 36\n",
            "Hello Cameron. Your lucky number is 63\n"
          ]
        }
      ]
    },
    {
      "cell_type": "code",
      "source": [
        "#Refactor code\n",
        "def circle_area(radius):\n",
        "  pi = 3.14\n",
        "  area = pi * (radius ** 2)\n",
        "  print(area)\n",
        "\n",
        "circle_area(5)"
      ],
      "metadata": {
        "colab": {
          "base_uri": "https://localhost:8080/"
        },
        "id": "wAQbzobfRT42",
        "outputId": "1c4de5e2-be2e-4813-9232-d0f0a121dffe"
      },
      "execution_count": 38,
      "outputs": [
        {
          "output_type": "stream",
          "name": "stdout",
          "text": [
            "78.5\n"
          ]
        }
      ]
    },
    {
      "cell_type": "code",
      "source": [
        "# This function calculates the number of days in a variable number of\n",
        "# years, months, and days. These variables are provided by the user and\n",
        "# are passed to the function through the function’s parameters.\n",
        "def find_total_days(years, months, days):\n",
        "# Assign a variable to hold the calculations for the number of days in\n",
        "# a year (years*365) plus the number of days in a month (months*30) plus\n",
        "# the number of days provided through the \"days\" parameter variable.\n",
        "    my_days = (years*365) + (months*30) + days\n",
        "# Use the \"return\" keyword to send the result of the \"my_days\"\n",
        "# calculation to the function call.\n",
        "    return my_days\n",
        "\n",
        "# Function call with user provided parameter values.\n",
        "print(find_total_days(2,5,23))"
      ],
      "metadata": {
        "id": "TBbkfC8WRT7S"
      },
      "execution_count": null,
      "outputs": []
    },
    {
      "cell_type": "code",
      "source": [
        "# This function converts fluid ounces to milliliters and returns the\n",
        "# result of the conversion.\n",
        "def convert_volume(fluid_ounce):\n",
        "# Calculate value of the \"ml\" variable using the parameter variable\n",
        "# \"fluid_ounce\". There are approximately 29.5 milliliters in 1 fluid\n",
        "# ounce.\n",
        "    ml = fluid_ounce * 29.5\n",
        "# Return the result of the calculation.\n",
        "    return ml\n",
        "\n",
        "# Call the conversion from within the print() function using 2 fluid\n",
        "# ounces. Convert the return value from a float to a string.\n",
        "print(\"The volume in millimeters is \" + str(convert_volume(2)))\n",
        "\n",
        "# Call the function again and double the 2 fluid ounces from within\n",
        "# the print function.\n",
        "print(\"The volume in millimeters is \" + str(convert_volume(2)*2))\n",
        "# Alternative calculation:\n",
        "print(\"The volume in millimeters is \" + str(convert_volume(4)))\n",
        ""
      ],
      "metadata": {
        "colab": {
          "base_uri": "https://localhost:8080/"
        },
        "id": "EX5qoGAbRT96",
        "outputId": "67919913-d75a-488c-9e84-ee9ad100d3d8"
      },
      "execution_count": 43,
      "outputs": [
        {
          "output_type": "stream",
          "name": "stdout",
          "text": [
            "The volume in millimeters is 59.0\n",
            "The volume in millimeters is 118.0\n",
            "The volume in millimeters is 118.0\n"
          ]
        }
      ]
    },
    {
      "cell_type": "code",
      "source": [
        "# 1) Complete the function to return the result of the conversion\n",
        "def convert_distance(miles):\n",
        "\tkm = miles * 1.6  # approximately 1.6 km in 1 mile\n",
        "\treturn km\n",
        "\n",
        "# Do not indent any of the following lines of code as they are\n",
        "# meant to be located outside of the function above\n",
        "\n",
        "my_trip_miles = 55\n",
        "\n",
        "# 2) Convert my_trip_miles to kilometers by calling the function above\n",
        "my_trip_km =convert_distance(my_trip_miles)\n",
        "\n",
        "# 3) Fill in the blank to print the result of the my_trip_km conversion\n",
        "print(\"The distance in kilometers is \" + str(my_trip_km))\n",
        "\n",
        "# 4) Calculate the round-trip in kilometers by doubling the result of\n",
        "#    my_trip_km. Fill in the blank to print the result.\n",
        "print(\"The round-trip in kilometers is \" + str(my_trip_km*2))"
      ],
      "metadata": {
        "colab": {
          "base_uri": "https://localhost:8080/"
        },
        "id": "0J8tNeUPZeKf",
        "outputId": "bc622706-f26b-4273-ca41-d6bc1ec7c551"
      },
      "execution_count": 45,
      "outputs": [
        {
          "output_type": "stream",
          "name": "stdout",
          "text": [
            "The distance in kilometers is 88.0\n",
            "The round-trip in kilometers is 176.0\n"
          ]
        }
      ]
    },
    {
      "cell_type": "code",
      "source": [
        "# This function compares two numbers and returns them\n",
        "# in increasing order.\n",
        "def order_numbers(number1, number2):\n",
        "\tif number2 > number1:\n",
        "\t\treturn number1, number2\n",
        "\telse:\n",
        "\t\treturn number2, number1\n",
        "\n",
        "# 1) Fill in the blanks so the print statement displays the result\n",
        "#    of the function call\n",
        "smaller, bigger = order_numbers(100, 99)\n",
        "print(smaller, bigger)"
      ],
      "metadata": {
        "colab": {
          "base_uri": "https://localhost:8080/"
        },
        "id": "VlbPya7cZeNy",
        "outputId": "ffdd07ca-0f3c-410a-e206-bac55a8602ef"
      },
      "execution_count": 44,
      "outputs": [
        {
          "output_type": "stream",
          "name": "stdout",
          "text": [
            "99 100\n"
          ]
        }
      ]
    },
    {
      "cell_type": "code",
      "source": [
        "def print_seconds(hours, minutes, seconds):\n",
        "    print(hours*3600+minutes*60+seconds)\n",
        "\n",
        "\n",
        "print_seconds(1,2,3)\n",
        "#output will print to the screen\n"
      ],
      "metadata": {
        "colab": {
          "base_uri": "https://localhost:8080/"
        },
        "id": "luqSzouwZeQt",
        "outputId": "9d0b2d31-a8f2-4b22-e251-c7e568faee83"
      },
      "execution_count": 46,
      "outputs": [
        {
          "output_type": "stream",
          "name": "stdout",
          "text": [
            "3723\n"
          ]
        }
      ]
    },
    {
      "cell_type": "code",
      "source": [],
      "metadata": {
        "id": "CbE_xKhtZeTZ"
      },
      "execution_count": null,
      "outputs": []
    },
    {
      "cell_type": "code",
      "source": [],
      "metadata": {
        "id": "bgAcx0kiZeWV"
      },
      "execution_count": null,
      "outputs": []
    },
    {
      "cell_type": "code",
      "source": [],
      "metadata": {
        "id": "-SR7P5fUZeZB"
      },
      "execution_count": null,
      "outputs": []
    },
    {
      "cell_type": "code",
      "source": [],
      "metadata": {
        "id": "F60HB-izZebx"
      },
      "execution_count": null,
      "outputs": []
    },
    {
      "cell_type": "markdown",
      "source": [
        "#Module 3"
      ],
      "metadata": {
        "id": "gJ3jgds8ZfOB"
      }
    },
    {
      "cell_type": "code",
      "source": [],
      "metadata": {
        "id": "1jCS9MgDZv8W"
      },
      "execution_count": null,
      "outputs": []
    }
  ]
}